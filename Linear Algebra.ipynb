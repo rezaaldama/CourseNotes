{
 "cells": [
  {
   "cell_type": "markdown",
   "id": "5ba5d21c",
   "metadata": {},
   "source": [
    "# Linear Algebra"
   ]
  },
  {
   "cell_type": "markdown",
   "id": "04ff1f29",
   "metadata": {},
   "source": [
    "## 1. Vectors"
   ]
  },
  {
   "cell_type": "markdown",
   "id": "6ab91253",
   "metadata": {},
   "source": [
    "### 1.1. The Geometry and Algebra of Vectors"
   ]
  },
  {
   "cell_type": "markdown",
   "id": "f1d1b9ba",
   "metadata": {},
   "source": [
    "#### 1.1.1. Vectors in the plane"
   ]
  },
  {
   "cell_type": "markdown",
   "id": "8d0a1668",
   "metadata": {},
   "source": [
    "We begin by considering the Cartesian plane with the familiar x- and y-axes.\n",
    "\n",
    "A <u>vector</u> is a directed line segment that corresponds to a displacement from one point A to another point B.\n",
    "\n",
    "The vector from A to B is denoted by: \n",
    "\n",
    "$\\vec{v} = \\overrightarrow{AB} = (x,y) = \\begin{bmatrix} X \\\\ Y \\end{bmatrix}$\n",
    "\n",
    "- A vector is simply denoted by a single boldface, lowercase letter such as v. \n",
    "- The point A is called its <u>initial point</u>, or tail, and the point B is called its <u>terminal point</u>, or head. \n",
    "- Vectors are represented using coordinates (row vectors, or column coordinates which are more convenient) where the individual coordinates (x and y in the case of v) are called the <u>components</u> of the vector. A vector is sometimes said to be an ordered pair of real numbers since (x, y) is not equal (y, x).\n",
    "- The set of all vectors with two components is denoted by $\\mathbb{R}^2$ (where \"r two\" is the set of real numbers from which the components of vectors are chosen)"
   ]
  },
  {
   "cell_type": "markdown",
   "id": "0936074b",
   "metadata": {},
   "source": [
    "We cannot really draw the vector (0,0) from the origin (zero coordinates) to itself, but it is a perfectly good vector with a special name: <u>the zero vector</u> and denoted by 0. Another vectors, with its tail at the origin, is said to be in <u>standard position</u>."
   ]
  },
  {
   "cell_type": "markdown",
   "id": "227d99ee",
   "metadata": {},
   "source": [
    "#### 1.1.2. New vectors from old"
   ]
  },
  {
   "cell_type": "markdown",
   "id": "51f2b1cb",
   "metadata": {},
   "source": [
    "#### Vector Addition\n",
    "If we want to follow one vector by another (head-to-tail rule), then:\n",
    "\n",
    "$u = (u_{1}, u_{2})$ and $v = (v1_{1}, v2_{2})$, and their sum is the vector $u+v = (u_{1}+v_{1}, u_{2}+v_{2})$\n",
    "\n",
    "If u and v parallel to themselves, we obtain a parallelogram which is determined by u and v.\n",
    "\n",
    "#### Scalar Multiplication\n",
    "Given a vector (v) and a real number (c), the scaled version of v (cv) is obtained by multiplying each component of v by c, the vector: \n",
    "$cv = c(v_{1},v{2}) = (cv_{1},cv_{2})$, where cv has the same direction as v if c > 0 and the opposite direction if\n",
    "c < 0. \n",
    "\n",
    "When translation of vectors is taken into account, two vectors are scalar multiples of each other if and only if they are parallel.\n",
    "\n",
    "#### Vector Substraction\n",
    "A special case of a scalar multiple is $-v$ and is called the negative of v. We can use it to define the difference of u and\n",
    "v is the vector: $u - v = u + (-v)$"
   ]
  },
  {
   "cell_type": "markdown",
   "id": "d88c633f",
   "metadata": {},
   "source": [
    "#### 1.1.3. Vectors in $\\mathbb{R}^n$"
   ]
  },
  {
   "cell_type": "markdown",
   "id": "ddc4cae2",
   "metadata": {},
   "source": [
    "In general, we define $\\mathbb{R}^n$ as the set of all ordered n-tuples of real numbers written as row or column vectors. Since in $\\mathbb{R}^n$ (n>3) we can no longer draw pictures of vectors, it is important to be able to calculate with vectors. We must be careful not to assume that vector arithmetic will be similar to the arithmetic of real numbers.\n",
    "\n",
    "Algebraic Properties of Vectors in $\\mathbb{R}^n$:\n",
    "- $ u + v = v + u \\quad \\quad \\quad \\quad \\quad \\quad \\quad $ (commutativity)                 \n",
    "- $ (u + v) + w = u + (v + w) \\quad \\quad \\quad $ (associativity)\n",
    "- $ u + 0 = u $\n",
    "- $ u + (-u) = 0 $\n",
    "- $ c(u + v) = cu + cv \\quad \\quad \\quad \\quad \\quad \\quad $           (distributivity)\n",
    "- $ (c + d)u = cu + du \\quad \\quad \\quad \\quad \\quad \\quad $           (distributivity)\n",
    "- $ c(du) = (cd)u $\n",
    "- $ 1u = u $"
   ]
  },
  {
   "cell_type": "markdown",
   "id": "26776cde",
   "metadata": {},
   "source": [
    "#### 1.1.4. Linear combinations and coordinates"
   ]
  },
  {
   "cell_type": "markdown",
   "id": "db76df30",
   "metadata": {},
   "source": [
    "A vector v is linear combination of vectors $ v_{1}, v_{2}, ..., v_{k} $ if there are scalars $ c_{1}, c_{2}, ..., c_{k} $, and its a sum of scalar multiples of other vectors, such that: \n",
    "\n",
    "$ v = c_{1}v_{1} + c_{2}v_{2} + ... + c_{k}v_{k} $ \n",
    "\n",
    "The scalars (c) are called the cofficients of the linear combinations.\n",
    "\n",
    "Using vectors $u$ and $v$, we can locate a new set of axes to determine a <u>coordinate grid</u> that let us easily locate linear combination of $u$ and $v$."
   ]
  },
  {
   "cell_type": "markdown",
   "id": "935a98a9",
   "metadata": {},
   "source": [
    "#### 1.1.5. Binary vectors and modular arithmetic"
   ]
  },
  {
   "cell_type": "markdown",
   "id": "184d5894",
   "metadata": {},
   "source": [
    "<u>Binary vectors</u> are vectors each of whose components is a 0 or a 1, so the rules of arithmetic must be modified that $ 1 + 1 = 0 $, because we replace 0 with \"even\" and 1 with \"odd\". \n",
    "\n",
    "With such rules, the set of scalars ${0,1}$ is denoted by $ \\mathbb{Z}_{2} $, or called the set of <u>integers modulo 2</u>.\n",
    "\n",
    "With $ \\mathbb{Z}_{2} $ as our set of scalars, we extend the above rules to binary vectors of length n, that is denoted by $ \\mathbb{Z}^n_{2} $"
   ]
  },
  {
   "cell_type": "markdown",
   "id": "af755df7",
   "metadata": {},
   "source": [
    "### 1.2. Length and Angle: The Dot Product"
   ]
  },
  {
   "cell_type": "markdown",
   "id": "319a7a54",
   "metadata": {},
   "source": [
    "#### 1.2.1. The Dot Product"
   ]
  },
  {
   "cell_type": "markdown",
   "id": "237ad5ba",
   "metadata": {},
   "source": [
    "The vector versions of length, distance, and angle can all be described using the notion of the dot product of two vectors.\n",
    "\n",
    "$ u = \\begin{bmatrix} u_{1} \\\\ u_{2} \\\\ . \\\\ . \\\\ u_{n} \\end{bmatrix} \\quad \\text{and} \\quad \n",
    "v = \\begin{bmatrix} v_{1} \\\\ v_{2} \\\\ . \\\\ . \\\\ v_{n} \\end{bmatrix} $\n",
    "\n",
    "so, the <b>dot product u.v</b> of <b>u</b> and <b>v</b> is defined by:\n",
    "\n",
    "$ u.v = u_{1}v_{1} + u_{2}v_{2} + ... + u_{n}v_{n} $\n",
    "\n",
    "In other words, the dot product (u·v) is the sum of the products of the corresponding components of u and v. It is important to note that: \n",
    "- u and v must have the same number of components.\n",
    "- u·v is a number, not another vector, so it is also called the scalar product of u and v. \n",
    "- The dot product of vectors in $ \\mathbb{R}^n $ is a special case of the more general notion of <u>inner product</u>.\n",
    "\n",
    "Let u, v, and w be vectors in $ \\mathbb{R}^n $ and let c be a scalar, then:\n",
    "- $ u.v = v.u $\n",
    "- $ u.(v + w) = u.v + u.w $\n",
    "- $ (cu).v = c(u.v) $\n",
    "- $ u.u \\ge 0 \\ \\ and \\ \\ u.u = 0 \\iff u = 0 $"
   ]
  },
  {
   "cell_type": "markdown",
   "id": "1bba5a0e",
   "metadata": {},
   "source": [
    "#### 1.2.2. Length"
   ]
  },
  {
   "cell_type": "markdown",
   "id": "08891d9c",
   "metadata": {},
   "source": [
    "The <u>length</u> (or <u>norm</u>) of a vector v in $\\mathbb{R}^n$ is the non-negative scalar $\\|v\\|$ defined by:\n",
    "\n",
    "$ \\|v\\| = \\sqrt{v.v} = \\sqrt{v^2_{1} + v^2_{2} + ... + v^2_{n}} $\n",
    "\n",
    "In words, the length of a vector is the square root of the sum of the squares of its components. \n",
    "\n",
    "A vector with length of 1 is called a <u>unit vector</u> and finding it in the same direction is referred to as <u>normalizing</u> a vector.\n",
    "\n",
    "Properties:\n",
    "- $ \\|v\\| = 0 \\iff v = 0 $\n",
    "- $ \\|cv\\| = |c| \\|v\\| $\n",
    "- $|u.v| \\leq \\|u\\| \\|v\\| \\quad \\quad \\quad $ (The Cauchy-Schwarz Inequality)\n",
    "- $\\|u + v\\| \\leq \\|u\\|+\\|v\\| \\quad \\quad \\quad \\quad $ (The Triangle Inequality)"
   ]
  },
  {
   "cell_type": "markdown",
   "id": "0717c7b5",
   "metadata": {},
   "source": [
    "#### The Cauchy-Schwarz Inequality\n",
    "If two nonzero vectors u and v in $\\mathbb{R}^n$, the absolute value of dot product of u and v is less than or equal to the product of two vectors u and v's length.\n",
    "\n",
    "$(u + tv).(u + tv) \\geq 0 $\n",
    "\n",
    "$ u.u + u.tv + tv.u + tv.tv \\geq 0 $\n",
    "\n",
    "$ \\|u\\|^2 + t(u.v) + t(v.u) + t^2\\|v\\|^2 \\geq 0 $\n",
    "\n",
    "$ \\|u\\|^2 + 2t(u.v) + t^2\\|v\\|^2 \\geq 0 $\n",
    "\n",
    "$ \\|v\\|^2t^2 + 2t(u.v) + \\|u\\|^2 \\geq 0 $ \n",
    "\n",
    "Convert to quadratic expression of t:\n",
    "\n",
    "$ at^2 + b + c \\geq 0 $ \n",
    "\n",
    "There are three possible operators for the quadratic equation ($b^2 - 4ac$), since the number is always non-negative in the x-axis, then its should be \"less or equal than\": \n",
    "\n",
    "$ b^2 -4ac \\leq 0 $\n",
    "\n",
    "$ b^2 \\leq 4ac $\n",
    "\n",
    "Reconvert to original expression:\n",
    "\n",
    "$ 2(u.v))^2 \\leq 4(\\|v\\|^2)(\\|u\\|^2) $\n",
    "\n",
    "$ 4(u.v)^2 \\leq 4\\|v\\|^2\\|u\\|^2 $\n",
    "\n",
    "$ \\|u.v\\|^2 \\leq\\|u\\|^2\\|v\\|^2 $\n",
    "\n",
    "$ \\|u.v\\| \\leq\\|u\\|\\|v\\| $"
   ]
  },
  {
   "cell_type": "markdown",
   "id": "c0de61fe",
   "metadata": {},
   "source": [
    "#### The Triangle Inequality"
   ]
  },
  {
   "cell_type": "markdown",
   "id": "8c463bb2",
   "metadata": {},
   "source": [
    "If two nonzero vectors u and v in $\\mathbb{R}^n$, the distance of the two vectors is less than or equal to the the sum of the distance of u and v.\n",
    "\n",
    "$ \\|u + v\\|^2 = (u+v).(u.v) $\n",
    "\n",
    "$ \\|u + v\\|^2 = u.(u+v) + v.(u+v) $\n",
    "\n",
    "$ \\|u + v\\|^2 = u.u + u.v + v.u + v.v $\n",
    "\n",
    "$ \\|u + v\\|^2 = \\|u\\|^2 + 2(u.v) + \\|y\\|^2 $\n",
    "\n",
    "$ \\|u + v\\|^2 \\leq \\|u\\|^2 + 2\\|u\\|\\|v\\|) + \\|y\\|^2 \\quad $ (The Cauchy-Schwarz Inequality)\n",
    "\n",
    "$ \\|u + v\\|^2 \\leq (\\|u\\|+ \\|y\\|)^2 $\n",
    "\n",
    "$ \\|u + v\\| \\leq \\|u\\|+ \\|y\\| \\quad \\quad $ (The Triangle Inequality)"
   ]
  },
  {
   "cell_type": "markdown",
   "id": "e0e1d6fa",
   "metadata": {},
   "source": [
    "#### 1.2.3. Distance"
   ]
  },
  {
   "cell_type": "markdown",
   "id": "2ebc30b0",
   "metadata": {},
   "source": [
    "The distance between two vectors is the direct analogue of the distance between two points on the real number line or two points in the Cartesian plane.\n",
    "\n",
    "Thus, the distance is similar to algebraic distance formula between two points:\n",
    "\n",
    "$ d = \\sqrt{(a_{1}-b_{1})^2 + (a_{2}-b_{2})^2} = \\|a-b\\|$\n",
    "\n",
    "In terms of vector, if $ a = \\begin{bmatrix} a_{1} \\\\ a_{2} \\end{bmatrix} $ and $ b = \\begin{bmatrix} b_{1} \\\\ b_{2} \\end{bmatrix} $ then $ d(u, v) = \\|a - b\\| $"
   ]
  },
  {
   "cell_type": "markdown",
   "id": "a8827e63",
   "metadata": {},
   "source": [
    "#### 1.2.4. Angles"
   ]
  },
  {
   "cell_type": "markdown",
   "id": "d3302a27",
   "metadata": {},
   "source": [
    "The dot product can also be used to calculate the angle between a pair of vectors. \n",
    "\n",
    "Consider the triangle with sides $u$, $v$, and $u - v$, where $\\mathbb{0}$ is the angle between $u$ and $v$. \n",
    "\n",
    "Applying the law of cosines ($c^2 = a^2 + b^2 - 2ab \\ cos \\mathbb{0}$), we obtain:\n",
    "\n",
    "$ \\|u-v\\|^2 = \\|u\\|^2 + \\|v\\|^2 - 2\\|u\\|v\\| \\ cos \\mathbb{0} $\n",
    "\n",
    "$ \\|u\\|^2 - 2(u.v) + \\|v\\|^2 = \\|u\\|^2 + \\|v\\|^2 - 2\\|u\\|v\\| \\ cos \\mathbb{0} $\n",
    "\n",
    "$ u.v = \\|u\\|\\|v\\| \\ cos \\mathbb{0} $\n",
    "\n",
    "$ cos \\mathbb{0} = \\Large\\frac{u.v}{\\|u\\| \\|v\\|} $\n",
    "\n",
    "$ \\mathbb{0} = \\overset{\\huge\\frown}{cos} \\Large\\frac{u.v}{\\|u\\| \\|v\\|} $"
   ]
  },
  {
   "cell_type": "markdown",
   "id": "4ce4c4e4",
   "metadata": {},
   "source": [
    "#### Orthogonal vectors"
   ]
  },
  {
   "cell_type": "markdown",
   "id": "6d5b2224",
   "metadata": {},
   "source": [
    "We generalize the idea of perpendicularity to vectors, where it is called <u>orthogonality</u>. \n",
    "\n",
    "Two non-zero vectors $u$ and $v$ are perpendicular if the angle between them is a right angle, or if: \n",
    "\n",
    "$ Angle(u,v) = \\Large \\frac{\\pi}{2}$ or $ 90^o $ $ \\ \\rightarrow \\ $ $ cos90^o = \\Large \\frac{u.v}{\\|u\\|v\\|}\\normalsize = 0 $\n",
    "\n",
    "Therefore, two vectors $u$ and $v$ are orthogonal to each other if $u.v = 0$ and every zero vector is orthogonal to all vectors. "
   ]
  },
  {
   "cell_type": "markdown",
   "id": "6ee360ef",
   "metadata": {},
   "source": [
    "#### 1.2.5. Projections"
   ]
  },
  {
   "cell_type": "markdown",
   "id": "afec02d5",
   "metadata": {},
   "source": [
    "The problem of finding the distance from a point to a line of vector, leads to the projection of a vector onto another vector, which is the problem of finding the length of the perpendicular line.\n",
    "\n",
    "Consider two non-zero vectors $u$ and $v$. Let $p$ be the vector obtained by dropping a perpendicular from the head of $v$ onto $u$ and let $\\mathbb{0}$ be the angle between $u$ and $v$, then the projection of $v$ unto $u $:\n",
    "\n",
    "$ proj_{u}(v) = \\Large (\\frac{u.v}{u.u}) \\normalsize u $"
   ]
  },
  {
   "cell_type": "markdown",
   "id": "7881e9a0",
   "metadata": {},
   "source": [
    "### 1.3. Lines and Planes"
   ]
  },
  {
   "cell_type": "markdown",
   "id": "11b0a43b",
   "metadata": {},
   "source": [
    "#### 1.3.1. Lines in $\\mathbb{R}^2$  $\\mathbb{R}^3$"
   ]
  },
  {
   "cell_type": "markdown",
   "id": "69c68432",
   "metadata": {},
   "source": [
    "In the xy-plane, the general form of the equation of a line is $ax + by = c$. \n",
    "\n",
    "If $b \\neq 0$, then the equation can be rewritten as $y = -(\\frac{a}{b})x + \\frac{c}{b}$, which has the form $y = mx + k$ where m is the slope of the line with coordinates $(0, k)$ is its $y$-intercept."
   ]
  },
  {
   "cell_type": "markdown",
   "id": "7c2a6fce",
   "metadata": {},
   "source": [
    "#### Lines in  $\\mathbb{R}^2$\n",
    "\n",
    "The normal form of the equation of a line $l$ in $\\mathbb{R}^2$ is:\n",
    "\n",
    "$ n . (x-p) = 0 \\ $ or $ \\ n . x = n . p $\n",
    "\n",
    "where $p$ is a point on $l$ and $n$ is a nonzero vector which is perpendicular (orthogonal) for $l$.\n",
    "\n",
    "The general form of the equation of $l$ is: \n",
    "\n",
    "$ ax + by = c \\ $, where $n = \\begin{bmatrix} a \\\\ b \\end{bmatrix} $ is a <u>normal vector</u> of $l$.\n",
    "\n",
    "The vector form of the equation $l$ in $\\mathbb{R}^2$ and $\\mathbb{R}^3$ is:\n",
    "\n",
    "$ x = p + td$\n",
    "\n",
    "where $p$ is a specific point on $l$ and $d \\neq 0$ is a <u>direction  vector</u> for $l$ (parallel).\n",
    "\n",
    "The equations corresponding to the components of the vector form of the equation are called <u>parametric equations</u> of $l$: \n",
    "\n",
    "$ x = p_1 + td_1 $\n",
    "\n",
    "$ y = p_2 + td_2 $"
   ]
  },
  {
   "cell_type": "markdown",
   "id": "867d713a",
   "metadata": {},
   "source": [
    "#### Planes in $\\mathbb{R}^3$\n",
    "\n",
    "The normal form of the equation of a plane $P$ in $\\mathbb{R}^3$ is:\n",
    "\n",
    "$ n.(x-p) = 0 \\ $ or $ \\ n.x=n.p$\n",
    "\n",
    "where $p$ is a point on $P$ and $n$ is a nonzero vector which is perpendicular (orthogonal) to $P$.\n",
    "\n",
    "The general form of the equation of $P$ is: \n",
    "\n",
    "$ax+bx+cz = d$, where $n = \\begin{bmatrix} a \\\\ b \\\\ c \\end{bmatrix} $ is a normal vector for $P$.\n",
    "\n",
    "The vector form of the equation of a plane $P$ in $\\mathbb{R}^3$ is:\n",
    "\n",
    "$ x = p + su + tv $\n",
    "\n",
    "where $p$ is a point on $P$ and $u$ and $v$ are direction vectors for $P$ ($u$ and $v$ are non-zero vector which is parallel to $P$, but not to each other).\n",
    "\n",
    "The equations corresponding to the components of the vector form of the equation are called <u>parametric equation</u> of $P$: \n",
    "\n",
    "$ x = p_1 + su_1 + tv_1 $ \n",
    "\n",
    "$ y = p_2 + su_2 + tv_2 $ \n",
    "\n",
    "$ z = p_3 + su_3 + tv_3 $"
   ]
  },
  {
   "cell_type": "markdown",
   "id": "d475f94d",
   "metadata": {},
   "source": [
    "### 1.4. The Cross Product"
   ]
  },
  {
   "cell_type": "markdown",
   "id": "3c5ac981",
   "metadata": {},
   "source": [
    "To convert the vector form ($ x = p + su + tv $) to the normal form ($ n.x = n.p $), we need a process that produces a third vector $n$ and is orthogonal to vectors $u$ and $v$.\n",
    "\n",
    "The approach is known as the <u>cross product</u>, that only valid in $\\mathbb{R}^3$, defined as follows:\n",
    "\n",
    "The cross product of $u = \\begin{bmatrix} u_{1} \\\\ u{2} \\\\ u{3} \\end{bmatrix} $ and $v = \\begin{bmatrix} v_{1} \\\\ v_{2} \\\\ v_{3} \\end{bmatrix} $ is the vector $u \\times v = \\begin{bmatrix} u_{2}v_{3}-u_{3}v_{2} \\\\ u_{3}v_{1}-u_{1}v_{3} \\\\ u_{1}v_{2}-u_{2}v_{1} \\end{bmatrix} $"
   ]
  },
  {
   "cell_type": "markdown",
   "id": "00b215d4",
   "metadata": {},
   "source": [
    "#### Relationship between cross product and sin of angle:\n",
    "\n",
    "$ \\|a \\times b\\|^2 = \\|a\\|\\|b\\| \\ sin \\mathbb{0} $"
   ]
  },
  {
   "attachments": {
    "linalg_sohcahtoa-2.png": {
     "image/png": "[encoded data removed]"
    }
   },
   "cell_type": "markdown",
   "id": "47d2a9f8",
   "metadata": {},
   "source": [
    "![linalg_sohcahtoa-2.png](attachment:linalg_sohcahtoa-2.png)"
   ]
  },
  {
   "cell_type": "markdown",
   "id": "85dcff9e",
   "metadata": {},
   "source": [
    "#### Comparison of cross product and dot product:\n",
    "\n",
    "Dot product:\n",
    "\n",
    "$ cos \\mathbb{0} = \\large \\frac{adjacent}{hypotenuse} \\rightarrow \\frac{adjacent}{\\|a\\|} \\rightarrow \\normalsize \\|a\\| \\ cos \\mathbb{0} = adjacent $\n",
    "\n",
    "Therefore, dot product is the product of lengths of vectors that moving in the same direction. The value is maximized when a and b is collinear ($cos 0^o = 1$) and minimized when a and b is perpendicular ($cos 90^o = 0$).  \n",
    "\n",
    "Cross product:\n",
    "\n",
    "$ sin \\mathbb{0} = \\large \\frac{opposite}{hypotenuse} \\rightarrow \\frac{opposite}{\\|a\\|} \\rightarrow \\normalsize \\|a\\| \\ sin \\mathbb{0} = opposite $\n",
    "\n",
    "Therefore, cross product is the product of lengths of vectors that moving in the perpendicular direction. The value is maximized when a and b is perpendicular ($sin 90^o = 1$) and minimized when a and b is collinear ($sin 0^o = 0$).  "
   ]
  },
  {
   "cell_type": "markdown",
   "id": "f32f268b",
   "metadata": {},
   "source": [
    "## 2. Systems of Linear Equations "
   ]
  },
  {
   "cell_type": "markdown",
   "id": "7b9c3391",
   "metadata": {},
   "source": [
    "..."
   ]
  },
  {
   "cell_type": "markdown",
   "id": "5bab020a",
   "metadata": {},
   "source": [
    "## 3. Matrices"
   ]
  },
  {
   "cell_type": "markdown",
   "id": "a2de44e8",
   "metadata": {},
   "source": [
    "..."
   ]
  },
  {
   "cell_type": "markdown",
   "id": "c596db89",
   "metadata": {},
   "source": [
    "## 4. Eigenvalues and Eigenvectors"
   ]
  },
  {
   "cell_type": "markdown",
   "id": "76723120",
   "metadata": {},
   "source": [
    "..."
   ]
  },
  {
   "cell_type": "markdown",
   "id": "04827622",
   "metadata": {},
   "source": [
    "## 5. Orthogonality"
   ]
  },
  {
   "cell_type": "markdown",
   "id": "c4074dad",
   "metadata": {},
   "source": [
    "..."
   ]
  },
  {
   "cell_type": "markdown",
   "id": "3c0f68df",
   "metadata": {},
   "source": [
    "## 6. Vector Spaces"
   ]
  },
  {
   "cell_type": "markdown",
   "id": "e5a132ef",
   "metadata": {},
   "source": [
    "..."
   ]
  },
  {
   "cell_type": "markdown",
   "id": "8e49ffe0",
   "metadata": {},
   "source": [
    "## 7. Distance and Approximation"
   ]
  },
  {
   "cell_type": "markdown",
   "id": "7764a2ed",
   "metadata": {},
   "source": [
    "..."
   ]
  }
 ],
 "metadata": {
  "kernelspec": {
   "display_name": "Python 3 (ipykernel)",
   "language": "python",
   "name": "python3"
  },
  "language_info": {
   "codemirror_mode": {
    "name": "ipython",
    "version": 3
   },
   "file_extension": ".py",
   "mimetype": "text/x-python",
   "name": "python",
   "nbconvert_exporter": "python",
   "pygments_lexer": "ipython3",
   "version": "3.10.9"
  }
 },
 "nbformat": 4,
 "nbformat_minor": 5
}
