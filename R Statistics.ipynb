{
 "cells": [
  {
   "cell_type": "markdown",
   "id": "0f7e8292",
   "metadata": {},
   "source": [
    "# The R Environment"
   ]
  },
  {
   "cell_type": "markdown",
   "id": "d6c0b23a",
   "metadata": {},
   "source": [
    "### 1. Getting Started"
   ]
  },
  {
   "cell_type": "markdown",
   "id": "610fc9e2",
   "metadata": {},
   "source": [
    "https://github.com/lawrence009/dsur/tree/master/data"
   ]
  },
  {
   "cell_type": "markdown",
   "id": "79938fb8",
   "metadata": {},
   "source": [
    "### 1.1. Installing and using packages"
   ]
  },
  {
   "cell_type": "code",
   "execution_count": 1,
   "id": "02a82271",
   "metadata": {},
   "outputs": [],
   "source": [
    "# install.packages(\"name\", type=\"binary\", dependencies = TRUE, repos = \"https://cloud.r-project.org\")"
   ]
  },
  {
   "cell_type": "code",
   "execution_count": 2,
   "id": "5828b5e3",
   "metadata": {},
   "outputs": [
    {
     "name": "stderr",
     "output_type": "stream",
     "text": [
      "Warning message:\n",
      "\"package 'reshape' was built under R version 3.6.3\"Warning message:\n",
      "\"package 'ggplot2' was built under R version 3.6.3\""
     ]
    }
   ],
   "source": [
    "library(reshape)\n",
    "library(ggplot2)"
   ]
  },
  {
   "cell_type": "markdown",
   "id": "428f290d",
   "metadata": {},
   "source": [
    "### 1.2. Getting help"
   ]
  },
  {
   "cell_type": "code",
   "execution_count": 3,
   "id": "cc743a16",
   "metadata": {},
   "outputs": [],
   "source": [
    "# help(function)"
   ]
  },
  {
   "cell_type": "markdown",
   "id": "b49a55a7",
   "metadata": {},
   "source": [
    "### 1.3. Importing Data"
   ]
  },
  {
   "cell_type": "markdown",
   "id": "cfb0b190",
   "metadata": {},
   "source": [
    "When inputting a new set of data, you must do so in a logical way. The most logical way that we usually use is known as the <u>wide format</u>. \n",
    "\n",
    "In the wide format, each row represents data from one entity while each column represents a variable. There is no discrimination between independent and dependent variables."
   ]
  },
  {
   "cell_type": "code",
   "execution_count": 4,
   "id": "992e72d3",
   "metadata": {},
   "outputs": [],
   "source": [
    "# dataframe.name<-read.csv(\"filename.extension\", header = TRUE)\n",
    "# dataframe<-read.delim(\"filename.extension\", header = TRUE)\n",
    "\n",
    "# Using standard dialog box:\n",
    "# lecturerData<-read.csv(file.choose(), header = TRUE)"
   ]
  },
  {
   "cell_type": "markdown",
   "id": "f7c13f2c",
   "metadata": {},
   "source": [
    "The header = TRUE in the command tells R that the data file has variable names in the first row of the file. You could also use the read.delim() function to import tab-delimited text files from Excel (.txt) or SPSS (.dat)"
   ]
  },
  {
   "cell_type": "markdown",
   "id": "d4023feb",
   "metadata": {},
   "source": [
    "### 2. Creating Variables"
   ]
  },
  {
   "cell_type": "markdown",
   "id": "544b3f4e",
   "metadata": {},
   "source": [
    "Variable name conventions:\n",
    "- Google: lower case letters and separated with dots\n",
    "- Hadley W.: lower case letters and separated with underscore\n",
    "- Old programming: lower case letters, but capitalizing the second word"
   ]
  },
  {
   "cell_type": "markdown",
   "id": "555dce55",
   "metadata": {},
   "source": [
    "Commands in R are generally made up of two parts: <u>objects</u> and <u>functions</u>. \n",
    "\n",
    "These are separated by ‘<-’, which you can think of as meaning ‘is created from’. As such, the general form of a command is: Object<-function"
   ]
  },
  {
   "cell_type": "markdown",
   "id": "a9f5fefd",
   "metadata": {},
   "source": [
    "### 2.1. Creating a string variable"
   ]
  },
  {
   "cell_type": "code",
   "execution_count": 5,
   "id": "369f0dba",
   "metadata": {},
   "outputs": [],
   "source": [
    "metallicaNames<-c(\"Lars\",\"James\",\"Jason\",\"Kirk\")"
   ]
  },
  {
   "cell_type": "code",
   "execution_count": 6,
   "id": "f5f02ae4",
   "metadata": {},
   "outputs": [
    {
     "data": {
      "text/html": [
       "<ol class=list-inline>\n",
       "\t<li>'Lars'</li>\n",
       "\t<li>'James'</li>\n",
       "\t<li>'Jason'</li>\n",
       "\t<li>'Kirk'</li>\n",
       "</ol>\n"
      ],
      "text/latex": [
       "\\begin{enumerate*}\n",
       "\\item 'Lars'\n",
       "\\item 'James'\n",
       "\\item 'Jason'\n",
       "\\item 'Kirk'\n",
       "\\end{enumerate*}\n"
      ],
      "text/markdown": [
       "1. 'Lars'\n",
       "2. 'James'\n",
       "3. 'Jason'\n",
       "4. 'Kirk'\n",
       "\n",
       "\n"
      ],
      "text/plain": [
       "[1] \"Lars\"  \"James\" \"Jason\" \"Kirk\" "
      ]
     },
     "metadata": {},
     "output_type": "display_data"
    }
   ],
   "source": [
    "metallicaNames"
   ]
  },
  {
   "cell_type": "code",
   "execution_count": 7,
   "id": "981b1ce9",
   "metadata": {},
   "outputs": [],
   "source": [
    "name<-c(\"Ben\", \"Martin\", \"Andy\", \"Paul\", \"Graham\", \"Carina\", \"Karina\",\n",
    "\"Doug\", \"Mark\", \"Zoe\")"
   ]
  },
  {
   "cell_type": "markdown",
   "id": "8a58ec9e",
   "metadata": {},
   "source": [
    "### 2.2. Creating a date variable"
   ]
  },
  {
   "cell_type": "code",
   "execution_count": 8,
   "id": "fbee8c3c",
   "metadata": {},
   "outputs": [],
   "source": [
    "birth_date<-as.Date(c(\"1977-07-03\", \"1969-05-24\", \"1973-06-21\", \"1970-07-16\",\n",
    "\"1949-10-10\", \"1983-11-05\", \"1987-10-08\", \"1989-09-16\", \"1973-05-20\",\n",
    "\"1984-11-12\"))"
   ]
  },
  {
   "cell_type": "code",
   "execution_count": 9,
   "id": "7bf8f0a4",
   "metadata": {},
   "outputs": [
    {
     "data": {
      "text/html": [
       "<ol class=list-inline>\n",
       "\t<li><time datetime=\"1977-07-03\">1977-07-03</time></li>\n",
       "\t<li><time datetime=\"1969-05-24\">1969-05-24</time></li>\n",
       "\t<li><time datetime=\"1973-06-21\">1973-06-21</time></li>\n",
       "\t<li><time datetime=\"1970-07-16\">1970-07-16</time></li>\n",
       "\t<li><time datetime=\"1949-10-10\">1949-10-10</time></li>\n",
       "\t<li><time datetime=\"1983-11-05\">1983-11-05</time></li>\n",
       "\t<li><time datetime=\"1987-10-08\">1987-10-08</time></li>\n",
       "\t<li><time datetime=\"1989-09-16\">1989-09-16</time></li>\n",
       "\t<li><time datetime=\"1973-05-20\">1973-05-20</time></li>\n",
       "\t<li><time datetime=\"1984-11-12\">1984-11-12</time></li>\n",
       "</ol>\n"
      ],
      "text/latex": [
       "\\begin{enumerate*}\n",
       "\\item 1977-07-03\n",
       "\\item 1969-05-24\n",
       "\\item 1973-06-21\n",
       "\\item 1970-07-16\n",
       "\\item 1949-10-10\n",
       "\\item 1983-11-05\n",
       "\\item 1987-10-08\n",
       "\\item 1989-09-16\n",
       "\\item 1973-05-20\n",
       "\\item 1984-11-12\n",
       "\\end{enumerate*}\n"
      ],
      "text/markdown": [
       "1. 1977-07-03\n",
       "2. 1969-05-24\n",
       "3. 1973-06-21\n",
       "4. 1970-07-16\n",
       "5. 1949-10-10\n",
       "6. 1983-11-05\n",
       "7. 1987-10-08\n",
       "8. 1989-09-16\n",
       "9. 1973-05-20\n",
       "10. 1984-11-12\n",
       "\n",
       "\n"
      ],
      "text/plain": [
       " [1] \"1977-07-03\" \"1969-05-24\" \"1973-06-21\" \"1970-07-16\" \"1949-10-10\"\n",
       " [6] \"1983-11-05\" \"1987-10-08\" \"1989-09-16\" \"1973-05-20\" \"1984-11-12\""
      ]
     },
     "metadata": {},
     "output_type": "display_data"
    }
   ],
   "source": [
    "birth_date"
   ]
  },
  {
   "cell_type": "markdown",
   "id": "be808919",
   "metadata": {},
   "source": [
    "### 2.3. Creating coding variables or factors"
   ]
  },
  {
   "cell_type": "markdown",
   "id": "e6b8799b",
   "metadata": {},
   "source": [
    "The column with the information about my categorical data is a grouping variable (also known as a <u>factor</u>): One can belong to either the group, but not both. As such, this variable is a between-group variable (different entities belong to different groups)."
   ]
  },
  {
   "cell_type": "code",
   "execution_count": 10,
   "id": "64590d5b",
   "metadata": {},
   "outputs": [],
   "source": [
    "job<-c(1,1,1,1,1,2,2,2,2,2)\n",
    "# job<-c(rep(1, 5),rep(2, 5))"
   ]
  },
  {
   "cell_type": "code",
   "execution_count": 11,
   "id": "84a3548b",
   "metadata": {},
   "outputs": [
    {
     "data": {
      "text/html": [
       "<ol class=list-inline>\n",
       "\t<li>1</li>\n",
       "\t<li>1</li>\n",
       "\t<li>1</li>\n",
       "\t<li>1</li>\n",
       "\t<li>1</li>\n",
       "\t<li>2</li>\n",
       "\t<li>2</li>\n",
       "\t<li>2</li>\n",
       "\t<li>2</li>\n",
       "\t<li>2</li>\n",
       "</ol>\n"
      ],
      "text/latex": [
       "\\begin{enumerate*}\n",
       "\\item 1\n",
       "\\item 1\n",
       "\\item 1\n",
       "\\item 1\n",
       "\\item 1\n",
       "\\item 2\n",
       "\\item 2\n",
       "\\item 2\n",
       "\\item 2\n",
       "\\item 2\n",
       "\\end{enumerate*}\n"
      ],
      "text/markdown": [
       "1. 1\n",
       "2. 1\n",
       "3. 1\n",
       "4. 1\n",
       "5. 1\n",
       "6. 2\n",
       "7. 2\n",
       "8. 2\n",
       "9. 2\n",
       "10. 2\n",
       "\n",
       "\n"
      ],
      "text/plain": [
       " [1] 1 1 1 1 1 2 2 2 2 2"
      ]
     },
     "metadata": {},
     "output_type": "display_data"
    }
   ],
   "source": [
    "job"
   ]
  },
  {
   "cell_type": "code",
   "execution_count": 12,
   "id": "58987db2",
   "metadata": {},
   "outputs": [],
   "source": [
    "job<-factor(job, levels = c(1:2), labels = c(\"Lecturer\", \"Student\"))"
   ]
  },
  {
   "cell_type": "code",
   "execution_count": 13,
   "id": "7f99c9f0",
   "metadata": {},
   "outputs": [
    {
     "data": {
      "text/html": [
       "<ol class=list-inline>\n",
       "\t<li>Lecturer</li>\n",
       "\t<li>Lecturer</li>\n",
       "\t<li>Lecturer</li>\n",
       "\t<li>Lecturer</li>\n",
       "\t<li>Lecturer</li>\n",
       "\t<li>Student</li>\n",
       "\t<li>Student</li>\n",
       "\t<li>Student</li>\n",
       "\t<li>Student</li>\n",
       "\t<li>Student</li>\n",
       "</ol>\n",
       "\n",
       "<details>\n",
       "\t<summary style=display:list-item;cursor:pointer>\n",
       "\t\t<strong>Levels</strong>:\n",
       "\t</summary>\n",
       "\t<ol class=list-inline>\n",
       "\t\t<li>'Lecturer'</li>\n",
       "\t\t<li>'Student'</li>\n",
       "\t</ol>\n",
       "</details>"
      ],
      "text/latex": [
       "\\begin{enumerate*}\n",
       "\\item Lecturer\n",
       "\\item Lecturer\n",
       "\\item Lecturer\n",
       "\\item Lecturer\n",
       "\\item Lecturer\n",
       "\\item Student\n",
       "\\item Student\n",
       "\\item Student\n",
       "\\item Student\n",
       "\\item Student\n",
       "\\end{enumerate*}\n",
       "\n",
       "\\emph{Levels}: \\begin{enumerate*}\n",
       "\\item 'Lecturer'\n",
       "\\item 'Student'\n",
       "\\end{enumerate*}\n"
      ],
      "text/markdown": [
       "1. Lecturer\n",
       "2. Lecturer\n",
       "3. Lecturer\n",
       "4. Lecturer\n",
       "5. Lecturer\n",
       "6. Student\n",
       "7. Student\n",
       "8. Student\n",
       "9. Student\n",
       "10. Student\n",
       "\n",
       "\n",
       "\n",
       "**Levels**: 1. 'Lecturer'\n",
       "2. 'Student'\n",
       "\n",
       "\n"
      ],
      "text/plain": [
       " [1] Lecturer Lecturer Lecturer Lecturer Lecturer Student  Student  Student \n",
       " [9] Student  Student \n",
       "Levels: Lecturer Student"
      ]
     },
     "metadata": {},
     "output_type": "display_data"
    }
   ],
   "source": [
    "job"
   ]
  },
  {
   "cell_type": "markdown",
   "id": "b66b13cb",
   "metadata": {},
   "source": [
    "Having converted job to a factor, R will treat it as a nominal variable. A final way to generate factors is to use the gl() function – the ‘gl’ stands for general (factor) levels."
   ]
  },
  {
   "cell_type": "code",
   "execution_count": 14,
   "id": "c2377861",
   "metadata": {},
   "outputs": [],
   "source": [
    "job<-gl(2, 5, labels = c(\"Lecturer\", \"Student\"))"
   ]
  },
  {
   "cell_type": "code",
   "execution_count": 15,
   "id": "df5bb17f",
   "metadata": {},
   "outputs": [
    {
     "data": {
      "text/html": [
       "<ol class=list-inline>\n",
       "\t<li>Lecturer</li>\n",
       "\t<li>Lecturer</li>\n",
       "\t<li>Lecturer</li>\n",
       "\t<li>Lecturer</li>\n",
       "\t<li>Lecturer</li>\n",
       "\t<li>Student</li>\n",
       "\t<li>Student</li>\n",
       "\t<li>Student</li>\n",
       "\t<li>Student</li>\n",
       "\t<li>Student</li>\n",
       "</ol>\n",
       "\n",
       "<details>\n",
       "\t<summary style=display:list-item;cursor:pointer>\n",
       "\t\t<strong>Levels</strong>:\n",
       "\t</summary>\n",
       "\t<ol class=list-inline>\n",
       "\t\t<li>'Lecturer'</li>\n",
       "\t\t<li>'Student'</li>\n",
       "\t</ol>\n",
       "</details>"
      ],
      "text/latex": [
       "\\begin{enumerate*}\n",
       "\\item Lecturer\n",
       "\\item Lecturer\n",
       "\\item Lecturer\n",
       "\\item Lecturer\n",
       "\\item Lecturer\n",
       "\\item Student\n",
       "\\item Student\n",
       "\\item Student\n",
       "\\item Student\n",
       "\\item Student\n",
       "\\end{enumerate*}\n",
       "\n",
       "\\emph{Levels}: \\begin{enumerate*}\n",
       "\\item 'Lecturer'\n",
       "\\item 'Student'\n",
       "\\end{enumerate*}\n"
      ],
      "text/markdown": [
       "1. Lecturer\n",
       "2. Lecturer\n",
       "3. Lecturer\n",
       "4. Lecturer\n",
       "5. Lecturer\n",
       "6. Student\n",
       "7. Student\n",
       "8. Student\n",
       "9. Student\n",
       "10. Student\n",
       "\n",
       "\n",
       "\n",
       "**Levels**: 1. 'Lecturer'\n",
       "2. 'Student'\n",
       "\n",
       "\n"
      ],
      "text/plain": [
       " [1] Lecturer Lecturer Lecturer Lecturer Lecturer Student  Student  Student \n",
       " [9] Student  Student \n",
       "Levels: Lecturer Student"
      ]
     },
     "metadata": {},
     "output_type": "display_data"
    }
   ],
   "source": [
    "job"
   ]
  },
  {
   "cell_type": "code",
   "execution_count": 16,
   "id": "be439cac",
   "metadata": {},
   "outputs": [
    {
     "data": {
      "text/html": [
       "<ol class=list-inline>\n",
       "\t<li>'Lecturer'</li>\n",
       "\t<li>'Student'</li>\n",
       "</ol>\n"
      ],
      "text/latex": [
       "\\begin{enumerate*}\n",
       "\\item 'Lecturer'\n",
       "\\item 'Student'\n",
       "\\end{enumerate*}\n"
      ],
      "text/markdown": [
       "1. 'Lecturer'\n",
       "2. 'Student'\n",
       "\n",
       "\n"
      ],
      "text/plain": [
       "[1] \"Lecturer\" \"Student\" "
      ]
     },
     "metadata": {},
     "output_type": "display_data"
    }
   ],
   "source": [
    "levels(job)"
   ]
  },
  {
   "cell_type": "code",
   "execution_count": 17,
   "id": "7bf5718f",
   "metadata": {},
   "outputs": [],
   "source": [
    "levels(job)<-c(\"Medical Lecturer\", \"Medical Student\")"
   ]
  },
  {
   "cell_type": "code",
   "execution_count": 18,
   "id": "4d114937",
   "metadata": {},
   "outputs": [
    {
     "data": {
      "text/html": [
       "<ol class=list-inline>\n",
       "\t<li>Medical Lecturer</li>\n",
       "\t<li>Medical Lecturer</li>\n",
       "\t<li>Medical Lecturer</li>\n",
       "\t<li>Medical Lecturer</li>\n",
       "\t<li>Medical Lecturer</li>\n",
       "\t<li>Medical Student</li>\n",
       "\t<li>Medical Student</li>\n",
       "\t<li>Medical Student</li>\n",
       "\t<li>Medical Student</li>\n",
       "\t<li>Medical Student</li>\n",
       "</ol>\n",
       "\n",
       "<details>\n",
       "\t<summary style=display:list-item;cursor:pointer>\n",
       "\t\t<strong>Levels</strong>:\n",
       "\t</summary>\n",
       "\t<ol class=list-inline>\n",
       "\t\t<li>'Medical Lecturer'</li>\n",
       "\t\t<li>'Medical Student'</li>\n",
       "\t</ol>\n",
       "</details>"
      ],
      "text/latex": [
       "\\begin{enumerate*}\n",
       "\\item Medical Lecturer\n",
       "\\item Medical Lecturer\n",
       "\\item Medical Lecturer\n",
       "\\item Medical Lecturer\n",
       "\\item Medical Lecturer\n",
       "\\item Medical Student\n",
       "\\item Medical Student\n",
       "\\item Medical Student\n",
       "\\item Medical Student\n",
       "\\item Medical Student\n",
       "\\end{enumerate*}\n",
       "\n",
       "\\emph{Levels}: \\begin{enumerate*}\n",
       "\\item 'Medical Lecturer'\n",
       "\\item 'Medical Student'\n",
       "\\end{enumerate*}\n"
      ],
      "text/markdown": [
       "1. Medical Lecturer\n",
       "2. Medical Lecturer\n",
       "3. Medical Lecturer\n",
       "4. Medical Lecturer\n",
       "5. Medical Lecturer\n",
       "6. Medical Student\n",
       "7. Medical Student\n",
       "8. Medical Student\n",
       "9. Medical Student\n",
       "10. Medical Student\n",
       "\n",
       "\n",
       "\n",
       "**Levels**: 1. 'Medical Lecturer'\n",
       "2. 'Medical Student'\n",
       "\n",
       "\n"
      ],
      "text/plain": [
       " [1] Medical Lecturer Medical Lecturer Medical Lecturer Medical Lecturer\n",
       " [5] Medical Lecturer Medical Student  Medical Student  Medical Student \n",
       " [9] Medical Student  Medical Student \n",
       "Levels: Medical Lecturer Medical Student"
      ]
     },
     "metadata": {},
     "output_type": "display_data"
    }
   ],
   "source": [
    "job"
   ]
  },
  {
   "cell_type": "markdown",
   "id": "3e275002",
   "metadata": {},
   "source": [
    "### 2.4. Creating a numberic variable"
   ]
  },
  {
   "cell_type": "code",
   "execution_count": 19,
   "id": "0e8ab111",
   "metadata": {},
   "outputs": [],
   "source": [
    "friends<-c(5,2,0,4,1,10,12,15,12,17)\n",
    "alcohol<-c(10,15,20,5,30,25,20,16,17,18)\n",
    "income<-c(20000,40000,35000,22000,50000,5000,100,3000,10000,10)\n",
    "neurotic<-c(10,17,14,13,21,7,13,9,14,13)"
   ]
  },
  {
   "cell_type": "code",
   "execution_count": 20,
   "id": "69e0a16f",
   "metadata": {},
   "outputs": [],
   "source": [
    "metallicaAges<-c(47, 47, 48, 46)"
   ]
  },
  {
   "cell_type": "markdown",
   "id": "8f6ca137",
   "metadata": {},
   "source": [
    "### 3. Creating dataframes"
   ]
  },
  {
   "cell_type": "code",
   "execution_count": 21,
   "id": "bf8b89c9",
   "metadata": {},
   "outputs": [],
   "source": [
    "lecturerData<-data.frame(name,birth_date,job,friends,alcohol,income,neurotic)"
   ]
  },
  {
   "cell_type": "code",
   "execution_count": 22,
   "id": "7c8f338e",
   "metadata": {},
   "outputs": [
    {
     "data": {
      "text/html": [
       "<table>\n",
       "<thead><tr><th scope=col>name</th><th scope=col>birth_date</th><th scope=col>job</th><th scope=col>friends</th><th scope=col>alcohol</th><th scope=col>income</th><th scope=col>neurotic</th></tr></thead>\n",
       "<tbody>\n",
       "\t<tr><td>Ben             </td><td>1977-07-03      </td><td>Medical Lecturer</td><td> 5              </td><td>10              </td><td>20000           </td><td>10              </td></tr>\n",
       "\t<tr><td>Martin          </td><td>1969-05-24      </td><td>Medical Lecturer</td><td> 2              </td><td>15              </td><td>40000           </td><td>17              </td></tr>\n",
       "\t<tr><td>Andy            </td><td>1973-06-21      </td><td>Medical Lecturer</td><td> 0              </td><td>20              </td><td>35000           </td><td>14              </td></tr>\n",
       "\t<tr><td>Paul            </td><td>1970-07-16      </td><td>Medical Lecturer</td><td> 4              </td><td> 5              </td><td>22000           </td><td>13              </td></tr>\n",
       "\t<tr><td>Graham          </td><td>1949-10-10      </td><td>Medical Lecturer</td><td> 1              </td><td>30              </td><td>50000           </td><td>21              </td></tr>\n",
       "\t<tr><td>Carina          </td><td>1983-11-05      </td><td>Medical Student </td><td>10              </td><td>25              </td><td> 5000           </td><td> 7              </td></tr>\n",
       "\t<tr><td>Karina          </td><td>1987-10-08      </td><td>Medical Student </td><td>12              </td><td>20              </td><td>  100           </td><td>13              </td></tr>\n",
       "\t<tr><td>Doug            </td><td>1989-09-16      </td><td>Medical Student </td><td>15              </td><td>16              </td><td> 3000           </td><td> 9              </td></tr>\n",
       "\t<tr><td>Mark            </td><td>1973-05-20      </td><td>Medical Student </td><td>12              </td><td>17              </td><td>10000           </td><td>14              </td></tr>\n",
       "\t<tr><td>Zoe             </td><td>1984-11-12      </td><td>Medical Student </td><td>17              </td><td>18              </td><td>   10           </td><td>13              </td></tr>\n",
       "</tbody>\n",
       "</table>\n"
      ],
      "text/latex": [
       "\\begin{tabular}{r|lllllll}\n",
       " name & birth\\_date & job & friends & alcohol & income & neurotic\\\\\n",
       "\\hline\n",
       "\t Ben              & 1977-07-03       & Medical Lecturer &  5               & 10               & 20000            & 10              \\\\\n",
       "\t Martin           & 1969-05-24       & Medical Lecturer &  2               & 15               & 40000            & 17              \\\\\n",
       "\t Andy             & 1973-06-21       & Medical Lecturer &  0               & 20               & 35000            & 14              \\\\\n",
       "\t Paul             & 1970-07-16       & Medical Lecturer &  4               &  5               & 22000            & 13              \\\\\n",
       "\t Graham           & 1949-10-10       & Medical Lecturer &  1               & 30               & 50000            & 21              \\\\\n",
       "\t Carina           & 1983-11-05       & Medical Student  & 10               & 25               &  5000            &  7              \\\\\n",
       "\t Karina           & 1987-10-08       & Medical Student  & 12               & 20               &   100            & 13              \\\\\n",
       "\t Doug             & 1989-09-16       & Medical Student  & 15               & 16               &  3000            &  9              \\\\\n",
       "\t Mark             & 1973-05-20       & Medical Student  & 12               & 17               & 10000            & 14              \\\\\n",
       "\t Zoe              & 1984-11-12       & Medical Student  & 17               & 18               &    10            & 13              \\\\\n",
       "\\end{tabular}\n"
      ],
      "text/markdown": [
       "\n",
       "| name | birth_date | job | friends | alcohol | income | neurotic |\n",
       "|---|---|---|---|---|---|---|\n",
       "| Ben              | 1977-07-03       | Medical Lecturer |  5               | 10               | 20000            | 10               |\n",
       "| Martin           | 1969-05-24       | Medical Lecturer |  2               | 15               | 40000            | 17               |\n",
       "| Andy             | 1973-06-21       | Medical Lecturer |  0               | 20               | 35000            | 14               |\n",
       "| Paul             | 1970-07-16       | Medical Lecturer |  4               |  5               | 22000            | 13               |\n",
       "| Graham           | 1949-10-10       | Medical Lecturer |  1               | 30               | 50000            | 21               |\n",
       "| Carina           | 1983-11-05       | Medical Student  | 10               | 25               |  5000            |  7               |\n",
       "| Karina           | 1987-10-08       | Medical Student  | 12               | 20               |   100            | 13               |\n",
       "| Doug             | 1989-09-16       | Medical Student  | 15               | 16               |  3000            |  9               |\n",
       "| Mark             | 1973-05-20       | Medical Student  | 12               | 17               | 10000            | 14               |\n",
       "| Zoe              | 1984-11-12       | Medical Student  | 17               | 18               |    10            | 13               |\n",
       "\n"
      ],
      "text/plain": [
       "   name   birth_date job              friends alcohol income neurotic\n",
       "1  Ben    1977-07-03 Medical Lecturer  5      10      20000  10      \n",
       "2  Martin 1969-05-24 Medical Lecturer  2      15      40000  17      \n",
       "3  Andy   1973-06-21 Medical Lecturer  0      20      35000  14      \n",
       "4  Paul   1970-07-16 Medical Lecturer  4       5      22000  13      \n",
       "5  Graham 1949-10-10 Medical Lecturer  1      30      50000  21      \n",
       "6  Carina 1983-11-05 Medical Student  10      25       5000   7      \n",
       "7  Karina 1987-10-08 Medical Student  12      20        100  13      \n",
       "8  Doug   1989-09-16 Medical Student  15      16       3000   9      \n",
       "9  Mark   1973-05-20 Medical Student  12      17      10000  14      \n",
       "10 Zoe    1984-11-12 Medical Student  17      18         10  13      "
      ]
     },
     "metadata": {},
     "output_type": "display_data"
    }
   ],
   "source": [
    "lecturerData"
   ]
  },
  {
   "cell_type": "code",
   "execution_count": 23,
   "id": "847d8a10",
   "metadata": {},
   "outputs": [],
   "source": [
    "metallica<-data.frame(Name = metallicaNames, Age = metallicaAges)"
   ]
  },
  {
   "cell_type": "code",
   "execution_count": 24,
   "id": "6c95dad0",
   "metadata": {},
   "outputs": [
    {
     "data": {
      "text/html": [
       "<table>\n",
       "<thead><tr><th scope=col>Name</th><th scope=col>Age</th></tr></thead>\n",
       "<tbody>\n",
       "\t<tr><td>Lars </td><td>47   </td></tr>\n",
       "\t<tr><td>James</td><td>47   </td></tr>\n",
       "\t<tr><td>Jason</td><td>48   </td></tr>\n",
       "\t<tr><td>Kirk </td><td>46   </td></tr>\n",
       "</tbody>\n",
       "</table>\n"
      ],
      "text/latex": [
       "\\begin{tabular}{r|ll}\n",
       " Name & Age\\\\\n",
       "\\hline\n",
       "\t Lars  & 47   \\\\\n",
       "\t James & 47   \\\\\n",
       "\t Jason & 48   \\\\\n",
       "\t Kirk  & 46   \\\\\n",
       "\\end{tabular}\n"
      ],
      "text/markdown": [
       "\n",
       "| Name | Age |\n",
       "|---|---|\n",
       "| Lars  | 47    |\n",
       "| James | 47    |\n",
       "| Jason | 48    |\n",
       "| Kirk  | 46    |\n",
       "\n"
      ],
      "text/plain": [
       "  Name  Age\n",
       "1 Lars  47 \n",
       "2 James 47 \n",
       "3 Jason 48 \n",
       "4 Kirk  46 "
      ]
     },
     "metadata": {},
     "output_type": "display_data"
    }
   ],
   "source": [
    "metallica"
   ]
  },
  {
   "cell_type": "code",
   "execution_count": 25,
   "id": "119481b3",
   "metadata": {},
   "outputs": [
    {
     "data": {
      "text/html": [
       "<ol class=list-inline>\n",
       "\t<li>47</li>\n",
       "\t<li>47</li>\n",
       "\t<li>48</li>\n",
       "\t<li>46</li>\n",
       "</ol>\n"
      ],
      "text/latex": [
       "\\begin{enumerate*}\n",
       "\\item 47\n",
       "\\item 47\n",
       "\\item 48\n",
       "\\item 46\n",
       "\\end{enumerate*}\n"
      ],
      "text/markdown": [
       "1. 47\n",
       "2. 47\n",
       "3. 48\n",
       "4. 46\n",
       "\n",
       "\n"
      ],
      "text/plain": [
       "[1] 47 47 48 46"
      ]
     },
     "metadata": {},
     "output_type": "display_data"
    }
   ],
   "source": [
    "metallica$Age"
   ]
  },
  {
   "cell_type": "code",
   "execution_count": 26,
   "id": "9179ee83",
   "metadata": {},
   "outputs": [
    {
     "data": {
      "text/html": [
       "<ol class=list-inline>\n",
       "\t<li>Lars</li>\n",
       "\t<li>James</li>\n",
       "\t<li>Jason</li>\n",
       "\t<li>Kirk</li>\n",
       "</ol>\n",
       "\n",
       "<details>\n",
       "\t<summary style=display:list-item;cursor:pointer>\n",
       "\t\t<strong>Levels</strong>:\n",
       "\t</summary>\n",
       "\t<ol class=list-inline>\n",
       "\t\t<li>'James'</li>\n",
       "\t\t<li>'Jason'</li>\n",
       "\t\t<li>'Kirk'</li>\n",
       "\t\t<li>'Lars'</li>\n",
       "\t</ol>\n",
       "</details>"
      ],
      "text/latex": [
       "\\begin{enumerate*}\n",
       "\\item Lars\n",
       "\\item James\n",
       "\\item Jason\n",
       "\\item Kirk\n",
       "\\end{enumerate*}\n",
       "\n",
       "\\emph{Levels}: \\begin{enumerate*}\n",
       "\\item 'James'\n",
       "\\item 'Jason'\n",
       "\\item 'Kirk'\n",
       "\\item 'Lars'\n",
       "\\end{enumerate*}\n"
      ],
      "text/markdown": [
       "1. Lars\n",
       "2. James\n",
       "3. Jason\n",
       "4. Kirk\n",
       "\n",
       "\n",
       "\n",
       "**Levels**: 1. 'James'\n",
       "2. 'Jason'\n",
       "3. 'Kirk'\n",
       "4. 'Lars'\n",
       "\n",
       "\n"
      ],
      "text/plain": [
       "[1] Lars  James Jason Kirk \n",
       "Levels: James Jason Kirk Lars"
      ]
     },
     "metadata": {},
     "output_type": "display_data"
    }
   ],
   "source": [
    "metallica$Name"
   ]
  },
  {
   "cell_type": "code",
   "execution_count": 27,
   "id": "0b42bc4f",
   "metadata": {},
   "outputs": [],
   "source": [
    "metallica$childAge<-c(12, 12, 4, 6)"
   ]
  },
  {
   "cell_type": "code",
   "execution_count": 28,
   "id": "130c2747",
   "metadata": {},
   "outputs": [
    {
     "data": {
      "text/html": [
       "<table>\n",
       "<thead><tr><th scope=col>Name</th><th scope=col>Age</th><th scope=col>childAge</th></tr></thead>\n",
       "<tbody>\n",
       "\t<tr><td>Lars </td><td>47   </td><td>12   </td></tr>\n",
       "\t<tr><td>James</td><td>47   </td><td>12   </td></tr>\n",
       "\t<tr><td>Jason</td><td>48   </td><td> 4   </td></tr>\n",
       "\t<tr><td>Kirk </td><td>46   </td><td> 6   </td></tr>\n",
       "</tbody>\n",
       "</table>\n"
      ],
      "text/latex": [
       "\\begin{tabular}{r|lll}\n",
       " Name & Age & childAge\\\\\n",
       "\\hline\n",
       "\t Lars  & 47    & 12   \\\\\n",
       "\t James & 47    & 12   \\\\\n",
       "\t Jason & 48    &  4   \\\\\n",
       "\t Kirk  & 46    &  6   \\\\\n",
       "\\end{tabular}\n"
      ],
      "text/markdown": [
       "\n",
       "| Name | Age | childAge |\n",
       "|---|---|---|\n",
       "| Lars  | 47    | 12    |\n",
       "| James | 47    | 12    |\n",
       "| Jason | 48    |  4    |\n",
       "| Kirk  | 46    |  6    |\n",
       "\n"
      ],
      "text/plain": [
       "  Name  Age childAge\n",
       "1 Lars  47  12      \n",
       "2 James 47  12      \n",
       "3 Jason 48   4      \n",
       "4 Kirk  46   6      "
      ]
     },
     "metadata": {},
     "output_type": "display_data"
    }
   ],
   "source": [
    "metallica"
   ]
  },
  {
   "cell_type": "code",
   "execution_count": 29,
   "id": "a960c3bd",
   "metadata": {},
   "outputs": [
    {
     "data": {
      "text/html": [
       "<ol class=list-inline>\n",
       "\t<li>'Name'</li>\n",
       "\t<li>'Age'</li>\n",
       "\t<li>'childAge'</li>\n",
       "</ol>\n"
      ],
      "text/latex": [
       "\\begin{enumerate*}\n",
       "\\item 'Name'\n",
       "\\item 'Age'\n",
       "\\item 'childAge'\n",
       "\\end{enumerate*}\n"
      ],
      "text/markdown": [
       "1. 'Name'\n",
       "2. 'Age'\n",
       "3. 'childAge'\n",
       "\n",
       "\n"
      ],
      "text/plain": [
       "[1] \"Name\"     \"Age\"      \"childAge\""
      ]
     },
     "metadata": {},
     "output_type": "display_data"
    }
   ],
   "source": [
    "names(metallica)"
   ]
  },
  {
   "cell_type": "markdown",
   "id": "1a46000e",
   "metadata": {},
   "source": [
    "### 3.1. Calculating New Variables"
   ]
  },
  {
   "cell_type": "code",
   "execution_count": 30,
   "id": "51c4f9cd",
   "metadata": {},
   "outputs": [
    {
     "name": "stdout",
     "output_type": "stream",
     "text": [
      "   Operator  Function             \n",
      "1  +         Adds                 \n",
      "2  -         Substracts           \n",
      "3  *         Multiplies           \n",
      "4  /         Divides              \n",
      "5  ^ or **   Exponentiation       \n",
      "6  <         Less than            \n",
      "7  <=        Less than or equal to\n",
      "8  >         Greater than         \n",
      "9  >=        Greater or equal to  \n",
      "10 ==        Exactly equals to    \n",
      "11 !=        Not equal to         \n",
      "12 !x        Not x                \n",
      "13 x | y     x OR Y               \n",
      "14 x & y     x AND y              \n",
      "15 isTRUE(x) Test if x is TRUE    \n"
     ]
    }
   ],
   "source": [
    "Operator<-c(\"+\", \"-\", \"*\", \"/\", \"^ or **\", \"<\", \"<=\", \">\", \">=\", \"==\", \"!=\",\n",
    "\"!x\", \"x | y\", \"x & y\", \"isTRUE(x)\")\n",
    "\n",
    "WhatItDoes<-c(\"Adds\", \"Substracts\", \"Multiplies\", \"Divides\", \"Exponentiation\", \n",
    "              \"Less than\", \"Less than or equal to\", \"Greater than\",\n",
    "              \"Greater or equal to\", \"Exactly equals to\", \"Not equal to\",\n",
    "              \"Not x\", \"x OR Y\", \"x AND y\", \"Test if x is TRUE\")\n",
    "\n",
    "Operators<-data.frame(Operator = Operator, Function = WhatItDoes)\n",
    "\n",
    "print(Operators, right=F)"
   ]
  },
  {
   "cell_type": "code",
   "execution_count": 31,
   "id": "7f9194e5",
   "metadata": {},
   "outputs": [],
   "source": [
    "metallica$fatherhoodAge <- metallica$Age − metallica$childAge"
   ]
  },
  {
   "cell_type": "code",
   "execution_count": 32,
   "id": "5240a522",
   "metadata": {},
   "outputs": [
    {
     "data": {
      "text/html": [
       "<table>\n",
       "<thead><tr><th scope=col>Name</th><th scope=col>Age</th><th scope=col>childAge</th><th scope=col>fatherhoodAge</th></tr></thead>\n",
       "<tbody>\n",
       "\t<tr><td>Lars </td><td>47   </td><td>12   </td><td>35   </td></tr>\n",
       "\t<tr><td>James</td><td>47   </td><td>12   </td><td>35   </td></tr>\n",
       "\t<tr><td>Jason</td><td>48   </td><td> 4   </td><td>44   </td></tr>\n",
       "\t<tr><td>Kirk </td><td>46   </td><td> 6   </td><td>40   </td></tr>\n",
       "</tbody>\n",
       "</table>\n"
      ],
      "text/latex": [
       "\\begin{tabular}{r|llll}\n",
       " Name & Age & childAge & fatherhoodAge\\\\\n",
       "\\hline\n",
       "\t Lars  & 47    & 12    & 35   \\\\\n",
       "\t James & 47    & 12    & 35   \\\\\n",
       "\t Jason & 48    &  4    & 44   \\\\\n",
       "\t Kirk  & 46    &  6    & 40   \\\\\n",
       "\\end{tabular}\n"
      ],
      "text/markdown": [
       "\n",
       "| Name | Age | childAge | fatherhoodAge |\n",
       "|---|---|---|---|\n",
       "| Lars  | 47    | 12    | 35    |\n",
       "| James | 47    | 12    | 35    |\n",
       "| Jason | 48    |  4    | 44    |\n",
       "| Kirk  | 46    |  6    | 40    |\n",
       "\n"
      ],
      "text/plain": [
       "  Name  Age childAge fatherhoodAge\n",
       "1 Lars  47  12       35           \n",
       "2 James 47  12       35           \n",
       "3 Jason 48   4       44           \n",
       "4 Kirk  46   6       40           "
      ]
     },
     "metadata": {},
     "output_type": "display_data"
    }
   ],
   "source": [
    "metallica"
   ]
  },
  {
   "cell_type": "markdown",
   "id": "d046f5d8",
   "metadata": {},
   "source": [
    "### 4. Manipulating Data"
   ]
  },
  {
   "cell_type": "markdown",
   "id": "f9d757f6",
   "metadata": {},
   "source": [
    "### 4.1. Selecting Data"
   ]
  },
  {
   "cell_type": "markdown",
   "id": "227c4bad",
   "metadata": {},
   "source": [
    "#### 4.1.1. Selecting parts of data frame"
   ]
  },
  {
   "cell_type": "code",
   "execution_count": 33,
   "id": "a97adb63",
   "metadata": {},
   "outputs": [
    {
     "data": {
      "text/html": [
       "<table>\n",
       "<thead><tr><th scope=col>friends</th><th scope=col>alcohol</th><th scope=col>neurotic</th></tr></thead>\n",
       "<tbody>\n",
       "\t<tr><td> 5</td><td>10</td><td>10</td></tr>\n",
       "\t<tr><td> 2</td><td>15</td><td>17</td></tr>\n",
       "\t<tr><td> 0</td><td>20</td><td>14</td></tr>\n",
       "\t<tr><td> 4</td><td> 5</td><td>13</td></tr>\n",
       "\t<tr><td> 1</td><td>30</td><td>21</td></tr>\n",
       "\t<tr><td>10</td><td>25</td><td> 7</td></tr>\n",
       "\t<tr><td>12</td><td>20</td><td>13</td></tr>\n",
       "\t<tr><td>15</td><td>16</td><td> 9</td></tr>\n",
       "\t<tr><td>12</td><td>17</td><td>14</td></tr>\n",
       "\t<tr><td>17</td><td>18</td><td>13</td></tr>\n",
       "</tbody>\n",
       "</table>\n"
      ],
      "text/latex": [
       "\\begin{tabular}{r|lll}\n",
       " friends & alcohol & neurotic\\\\\n",
       "\\hline\n",
       "\t  5 & 10 & 10\\\\\n",
       "\t  2 & 15 & 17\\\\\n",
       "\t  0 & 20 & 14\\\\\n",
       "\t  4 &  5 & 13\\\\\n",
       "\t  1 & 30 & 21\\\\\n",
       "\t 10 & 25 &  7\\\\\n",
       "\t 12 & 20 & 13\\\\\n",
       "\t 15 & 16 &  9\\\\\n",
       "\t 12 & 17 & 14\\\\\n",
       "\t 17 & 18 & 13\\\\\n",
       "\\end{tabular}\n"
      ],
      "text/markdown": [
       "\n",
       "| friends | alcohol | neurotic |\n",
       "|---|---|---|\n",
       "|  5 | 10 | 10 |\n",
       "|  2 | 15 | 17 |\n",
       "|  0 | 20 | 14 |\n",
       "|  4 |  5 | 13 |\n",
       "|  1 | 30 | 21 |\n",
       "| 10 | 25 |  7 |\n",
       "| 12 | 20 | 13 |\n",
       "| 15 | 16 |  9 |\n",
       "| 12 | 17 | 14 |\n",
       "| 17 | 18 | 13 |\n",
       "\n"
      ],
      "text/plain": [
       "   friends alcohol neurotic\n",
       "1   5      10      10      \n",
       "2   2      15      17      \n",
       "3   0      20      14      \n",
       "4   4       5      13      \n",
       "5   1      30      21      \n",
       "6  10      25       7      \n",
       "7  12      20      13      \n",
       "8  15      16       9      \n",
       "9  12      17      14      \n",
       "10 17      18      13      "
      ]
     },
     "metadata": {},
     "output_type": "display_data"
    }
   ],
   "source": [
    "lecturerPersonality <- lecturerData[, c(\"friends\", \"alcohol\", \"neurotic\")]\n",
    "lecturerPersonality"
   ]
  },
  {
   "cell_type": "code",
   "execution_count": 34,
   "id": "eb49b70c",
   "metadata": {},
   "outputs": [
    {
     "data": {
      "text/html": [
       "<table>\n",
       "<thead><tr><th scope=col>name</th><th scope=col>birth_date</th><th scope=col>job</th><th scope=col>friends</th><th scope=col>alcohol</th><th scope=col>income</th><th scope=col>neurotic</th></tr></thead>\n",
       "<tbody>\n",
       "\t<tr><td>Ben             </td><td>1977-07-03      </td><td>Medical Lecturer</td><td>5               </td><td>10              </td><td>20000           </td><td>10              </td></tr>\n",
       "\t<tr><td>Martin          </td><td>1969-05-24      </td><td>Medical Lecturer</td><td>2               </td><td>15              </td><td>40000           </td><td>17              </td></tr>\n",
       "\t<tr><td>Andy            </td><td>1973-06-21      </td><td>Medical Lecturer</td><td>0               </td><td>20              </td><td>35000           </td><td>14              </td></tr>\n",
       "\t<tr><td>Paul            </td><td>1970-07-16      </td><td>Medical Lecturer</td><td>4               </td><td> 5              </td><td>22000           </td><td>13              </td></tr>\n",
       "\t<tr><td>Graham          </td><td>1949-10-10      </td><td>Medical Lecturer</td><td>1               </td><td>30              </td><td>50000           </td><td>21              </td></tr>\n",
       "</tbody>\n",
       "</table>\n"
      ],
      "text/latex": [
       "\\begin{tabular}{r|lllllll}\n",
       " name & birth\\_date & job & friends & alcohol & income & neurotic\\\\\n",
       "\\hline\n",
       "\t Ben              & 1977-07-03       & Medical Lecturer & 5                & 10               & 20000            & 10              \\\\\n",
       "\t Martin           & 1969-05-24       & Medical Lecturer & 2                & 15               & 40000            & 17              \\\\\n",
       "\t Andy             & 1973-06-21       & Medical Lecturer & 0                & 20               & 35000            & 14              \\\\\n",
       "\t Paul             & 1970-07-16       & Medical Lecturer & 4                &  5               & 22000            & 13              \\\\\n",
       "\t Graham           & 1949-10-10       & Medical Lecturer & 1                & 30               & 50000            & 21              \\\\\n",
       "\\end{tabular}\n"
      ],
      "text/markdown": [
       "\n",
       "| name | birth_date | job | friends | alcohol | income | neurotic |\n",
       "|---|---|---|---|---|---|---|\n",
       "| Ben              | 1977-07-03       | Medical Lecturer | 5                | 10               | 20000            | 10               |\n",
       "| Martin           | 1969-05-24       | Medical Lecturer | 2                | 15               | 40000            | 17               |\n",
       "| Andy             | 1973-06-21       | Medical Lecturer | 0                | 20               | 35000            | 14               |\n",
       "| Paul             | 1970-07-16       | Medical Lecturer | 4                |  5               | 22000            | 13               |\n",
       "| Graham           | 1949-10-10       | Medical Lecturer | 1                | 30               | 50000            | 21               |\n",
       "\n"
      ],
      "text/plain": [
       "  name   birth_date job              friends alcohol income neurotic\n",
       "1 Ben    1977-07-03 Medical Lecturer 5       10      20000  10      \n",
       "2 Martin 1969-05-24 Medical Lecturer 2       15      40000  17      \n",
       "3 Andy   1973-06-21 Medical Lecturer 0       20      35000  14      \n",
       "4 Paul   1970-07-16 Medical Lecturer 4        5      22000  13      \n",
       "5 Graham 1949-10-10 Medical Lecturer 1       30      50000  21      "
      ]
     },
     "metadata": {},
     "output_type": "display_data"
    }
   ],
   "source": [
    "lecturerOnly <- lecturerData[job==\"Medical Lecturer\",]\n",
    "lecturerOnly"
   ]
  },
  {
   "cell_type": "code",
   "execution_count": 35,
   "id": "d0e31a8a",
   "metadata": {},
   "outputs": [
    {
     "data": {
      "text/html": [
       "<table>\n",
       "<thead><tr><th></th><th scope=col>friends</th><th scope=col>alcohol</th><th scope=col>neurotic</th></tr></thead>\n",
       "<tbody>\n",
       "\t<tr><th scope=row>2</th><td> 2</td><td>15</td><td>17</td></tr>\n",
       "\t<tr><th scope=row>3</th><td> 0</td><td>20</td><td>14</td></tr>\n",
       "\t<tr><th scope=row>5</th><td> 1</td><td>30</td><td>21</td></tr>\n",
       "\t<tr><th scope=row>6</th><td>10</td><td>25</td><td> 7</td></tr>\n",
       "\t<tr><th scope=row>7</th><td>12</td><td>20</td><td>13</td></tr>\n",
       "\t<tr><th scope=row>8</th><td>15</td><td>16</td><td> 9</td></tr>\n",
       "\t<tr><th scope=row>9</th><td>12</td><td>17</td><td>14</td></tr>\n",
       "\t<tr><th scope=row>10</th><td>17</td><td>18</td><td>13</td></tr>\n",
       "</tbody>\n",
       "</table>\n"
      ],
      "text/latex": [
       "\\begin{tabular}{r|lll}\n",
       "  & friends & alcohol & neurotic\\\\\n",
       "\\hline\n",
       "\t2 &  2 & 15 & 17\\\\\n",
       "\t3 &  0 & 20 & 14\\\\\n",
       "\t5 &  1 & 30 & 21\\\\\n",
       "\t6 & 10 & 25 &  7\\\\\n",
       "\t7 & 12 & 20 & 13\\\\\n",
       "\t8 & 15 & 16 &  9\\\\\n",
       "\t9 & 12 & 17 & 14\\\\\n",
       "\t10 & 17 & 18 & 13\\\\\n",
       "\\end{tabular}\n"
      ],
      "text/markdown": [
       "\n",
       "| <!--/--> | friends | alcohol | neurotic |\n",
       "|---|---|---|---|\n",
       "| 2 |  2 | 15 | 17 |\n",
       "| 3 |  0 | 20 | 14 |\n",
       "| 5 |  1 | 30 | 21 |\n",
       "| 6 | 10 | 25 |  7 |\n",
       "| 7 | 12 | 20 | 13 |\n",
       "| 8 | 15 | 16 |  9 |\n",
       "| 9 | 12 | 17 | 14 |\n",
       "| 10 | 17 | 18 | 13 |\n",
       "\n"
      ],
      "text/plain": [
       "   friends alcohol neurotic\n",
       "2   2      15      17      \n",
       "3   0      20      14      \n",
       "5   1      30      21      \n",
       "6  10      25       7      \n",
       "7  12      20      13      \n",
       "8  15      16       9      \n",
       "9  12      17      14      \n",
       "10 17      18      13      "
      ]
     },
     "metadata": {},
     "output_type": "display_data"
    }
   ],
   "source": [
    "alcoholPersonality <- lecturerData[alcohol > 10, c(\"friends\", \"alcohol\",\n",
    "\"neurotic\")]\n",
    "alcoholPersonality"
   ]
  },
  {
   "cell_type": "markdown",
   "id": "2f784016",
   "metadata": {},
   "source": [
    "#### 4.1.2. Selecting data with the subset()"
   ]
  },
  {
   "cell_type": "code",
   "execution_count": 36,
   "id": "3f365828",
   "metadata": {},
   "outputs": [
    {
     "data": {
      "text/html": [
       "<table>\n",
       "<thead><tr><th scope=col>name</th><th scope=col>birth_date</th><th scope=col>job</th><th scope=col>friends</th><th scope=col>alcohol</th><th scope=col>income</th><th scope=col>neurotic</th></tr></thead>\n",
       "<tbody>\n",
       "\t<tr><td>Ben             </td><td>1977-07-03      </td><td>Medical Lecturer</td><td>5               </td><td>10              </td><td>20000           </td><td>10              </td></tr>\n",
       "\t<tr><td>Martin          </td><td>1969-05-24      </td><td>Medical Lecturer</td><td>2               </td><td>15              </td><td>40000           </td><td>17              </td></tr>\n",
       "\t<tr><td>Andy            </td><td>1973-06-21      </td><td>Medical Lecturer</td><td>0               </td><td>20              </td><td>35000           </td><td>14              </td></tr>\n",
       "\t<tr><td>Paul            </td><td>1970-07-16      </td><td>Medical Lecturer</td><td>4               </td><td> 5              </td><td>22000           </td><td>13              </td></tr>\n",
       "\t<tr><td>Graham          </td><td>1949-10-10      </td><td>Medical Lecturer</td><td>1               </td><td>30              </td><td>50000           </td><td>21              </td></tr>\n",
       "</tbody>\n",
       "</table>\n"
      ],
      "text/latex": [
       "\\begin{tabular}{r|lllllll}\n",
       " name & birth\\_date & job & friends & alcohol & income & neurotic\\\\\n",
       "\\hline\n",
       "\t Ben              & 1977-07-03       & Medical Lecturer & 5                & 10               & 20000            & 10              \\\\\n",
       "\t Martin           & 1969-05-24       & Medical Lecturer & 2                & 15               & 40000            & 17              \\\\\n",
       "\t Andy             & 1973-06-21       & Medical Lecturer & 0                & 20               & 35000            & 14              \\\\\n",
       "\t Paul             & 1970-07-16       & Medical Lecturer & 4                &  5               & 22000            & 13              \\\\\n",
       "\t Graham           & 1949-10-10       & Medical Lecturer & 1                & 30               & 50000            & 21              \\\\\n",
       "\\end{tabular}\n"
      ],
      "text/markdown": [
       "\n",
       "| name | birth_date | job | friends | alcohol | income | neurotic |\n",
       "|---|---|---|---|---|---|---|\n",
       "| Ben              | 1977-07-03       | Medical Lecturer | 5                | 10               | 20000            | 10               |\n",
       "| Martin           | 1969-05-24       | Medical Lecturer | 2                | 15               | 40000            | 17               |\n",
       "| Andy             | 1973-06-21       | Medical Lecturer | 0                | 20               | 35000            | 14               |\n",
       "| Paul             | 1970-07-16       | Medical Lecturer | 4                |  5               | 22000            | 13               |\n",
       "| Graham           | 1949-10-10       | Medical Lecturer | 1                | 30               | 50000            | 21               |\n",
       "\n"
      ],
      "text/plain": [
       "  name   birth_date job              friends alcohol income neurotic\n",
       "1 Ben    1977-07-03 Medical Lecturer 5       10      20000  10      \n",
       "2 Martin 1969-05-24 Medical Lecturer 2       15      40000  17      \n",
       "3 Andy   1973-06-21 Medical Lecturer 0       20      35000  14      \n",
       "4 Paul   1970-07-16 Medical Lecturer 4        5      22000  13      \n",
       "5 Graham 1949-10-10 Medical Lecturer 1       30      50000  21      "
      ]
     },
     "metadata": {},
     "output_type": "display_data"
    }
   ],
   "source": [
    "lecturerOnly <- subset(lecturerData, job==\"Medical Lecturer\")\n",
    "lecturerOnly"
   ]
  },
  {
   "cell_type": "markdown",
   "id": "ca286162",
   "metadata": {},
   "source": [
    "#### 4.1.3. Selecting data as matrices"
   ]
  },
  {
   "cell_type": "markdown",
   "id": "f2742919",
   "metadata": {},
   "source": [
    "Sometimes, functions in R do not work on dataframes since they are designed instead to work on a matrix. Therefore, we convert a dataframe to a matrix using the <u>as.matrix()</u> function."
   ]
  },
  {
   "cell_type": "code",
   "execution_count": 37,
   "id": "2bfba9f4",
   "metadata": {},
   "outputs": [
    {
     "data": {
      "text/html": [
       "<table>\n",
       "<thead><tr><th></th><th scope=col>friends</th><th scope=col>alcohol</th><th scope=col>neurotic</th></tr></thead>\n",
       "<tbody>\n",
       "\t<tr><th scope=row>2</th><td> 2</td><td>15</td><td>17</td></tr>\n",
       "\t<tr><th scope=row>3</th><td> 0</td><td>20</td><td>14</td></tr>\n",
       "\t<tr><th scope=row>5</th><td> 1</td><td>30</td><td>21</td></tr>\n",
       "\t<tr><th scope=row>6</th><td>10</td><td>25</td><td> 7</td></tr>\n",
       "\t<tr><th scope=row>7</th><td>12</td><td>20</td><td>13</td></tr>\n",
       "\t<tr><th scope=row>8</th><td>15</td><td>16</td><td> 9</td></tr>\n",
       "\t<tr><th scope=row>9</th><td>12</td><td>17</td><td>14</td></tr>\n",
       "\t<tr><th scope=row>10</th><td>17</td><td>18</td><td>13</td></tr>\n",
       "</tbody>\n",
       "</table>\n"
      ],
      "text/latex": [
       "\\begin{tabular}{r|lll}\n",
       "  & friends & alcohol & neurotic\\\\\n",
       "\\hline\n",
       "\t2 &  2 & 15 & 17\\\\\n",
       "\t3 &  0 & 20 & 14\\\\\n",
       "\t5 &  1 & 30 & 21\\\\\n",
       "\t6 & 10 & 25 &  7\\\\\n",
       "\t7 & 12 & 20 & 13\\\\\n",
       "\t8 & 15 & 16 &  9\\\\\n",
       "\t9 & 12 & 17 & 14\\\\\n",
       "\t10 & 17 & 18 & 13\\\\\n",
       "\\end{tabular}\n"
      ],
      "text/markdown": [
       "\n",
       "| <!--/--> | friends | alcohol | neurotic |\n",
       "|---|---|---|---|\n",
       "| 2 |  2 | 15 | 17 |\n",
       "| 3 |  0 | 20 | 14 |\n",
       "| 5 |  1 | 30 | 21 |\n",
       "| 6 | 10 | 25 |  7 |\n",
       "| 7 | 12 | 20 | 13 |\n",
       "| 8 | 15 | 16 |  9 |\n",
       "| 9 | 12 | 17 | 14 |\n",
       "| 10 | 17 | 18 | 13 |\n",
       "\n"
      ],
      "text/plain": [
       "   friends alcohol neurotic\n",
       "2   2      15      17      \n",
       "3   0      20      14      \n",
       "5   1      30      21      \n",
       "6  10      25       7      \n",
       "7  12      20      13      \n",
       "8  15      16       9      \n",
       "9  12      17      14      \n",
       "10 17      18      13      "
      ]
     },
     "metadata": {},
     "output_type": "display_data"
    }
   ],
   "source": [
    "alcoholPersonalityMatrix <- as.matrix(lecturerData[alcohol > 10,\n",
    "c(\"friends\", \"alcohol\", \"neurotic\")])\n",
    "alcoholPersonalityMatrix"
   ]
  },
  {
   "cell_type": "markdown",
   "id": "e13377a2",
   "metadata": {},
   "source": [
    "### 4.2. Reshaping Data"
   ]
  },
  {
   "cell_type": "code",
   "execution_count": 38,
   "id": "02f026a7",
   "metadata": {},
   "outputs": [],
   "source": [
    "satisfactionData = read.delim(\"dsur/Honeymoon Period.dat\", header = TRUE)"
   ]
  },
  {
   "cell_type": "code",
   "execution_count": 39,
   "id": "2efec57e",
   "metadata": {},
   "outputs": [
    {
     "data": {
      "text/html": [
       "<table>\n",
       "<thead><tr><th scope=col>Person</th><th scope=col>Satisfaction_Base</th><th scope=col>Satisfaction_6_Months</th><th scope=col>Satisfaction_12_Months</th><th scope=col>Satisfaction_18_Months</th><th scope=col>Gender</th></tr></thead>\n",
       "<tbody>\n",
       "\t<tr><td>1 </td><td>6 </td><td> 6</td><td>5 </td><td>2 </td><td>0 </td></tr>\n",
       "\t<tr><td>2 </td><td>7 </td><td> 7</td><td>8 </td><td>4 </td><td>1 </td></tr>\n",
       "\t<tr><td>3 </td><td>4 </td><td> 6</td><td>2 </td><td>2 </td><td>1 </td></tr>\n",
       "\t<tr><td>4 </td><td>6 </td><td> 9</td><td>4 </td><td>1 </td><td>0 </td></tr>\n",
       "\t<tr><td>5 </td><td>6 </td><td> 7</td><td>6 </td><td>6 </td><td>0 </td></tr>\n",
       "\t<tr><td>6 </td><td>5 </td><td>10</td><td>4 </td><td>2 </td><td>1 </td></tr>\n",
       "</tbody>\n",
       "</table>\n"
      ],
      "text/latex": [
       "\\begin{tabular}{r|llllll}\n",
       " Person & Satisfaction\\_Base & Satisfaction\\_6\\_Months & Satisfaction\\_12\\_Months & Satisfaction\\_18\\_Months & Gender\\\\\n",
       "\\hline\n",
       "\t 1  & 6  &  6 & 5  & 2  & 0 \\\\\n",
       "\t 2  & 7  &  7 & 8  & 4  & 1 \\\\\n",
       "\t 3  & 4  &  6 & 2  & 2  & 1 \\\\\n",
       "\t 4  & 6  &  9 & 4  & 1  & 0 \\\\\n",
       "\t 5  & 6  &  7 & 6  & 6  & 0 \\\\\n",
       "\t 6  & 5  & 10 & 4  & 2  & 1 \\\\\n",
       "\\end{tabular}\n"
      ],
      "text/markdown": [
       "\n",
       "| Person | Satisfaction_Base | Satisfaction_6_Months | Satisfaction_12_Months | Satisfaction_18_Months | Gender |\n",
       "|---|---|---|---|---|---|\n",
       "| 1  | 6  |  6 | 5  | 2  | 0  |\n",
       "| 2  | 7  |  7 | 8  | 4  | 1  |\n",
       "| 3  | 4  |  6 | 2  | 2  | 1  |\n",
       "| 4  | 6  |  9 | 4  | 1  | 0  |\n",
       "| 5  | 6  |  7 | 6  | 6  | 0  |\n",
       "| 6  | 5  | 10 | 4  | 2  | 1  |\n",
       "\n"
      ],
      "text/plain": [
       "  Person Satisfaction_Base Satisfaction_6_Months Satisfaction_12_Months\n",
       "1 1      6                  6                    5                     \n",
       "2 2      7                  7                    8                     \n",
       "3 3      4                  6                    2                     \n",
       "4 4      6                  9                    4                     \n",
       "5 5      6                  7                    6                     \n",
       "6 6      5                 10                    4                     \n",
       "  Satisfaction_18_Months Gender\n",
       "1 2                      0     \n",
       "2 4                      1     \n",
       "3 2                      1     \n",
       "4 1                      0     \n",
       "5 6                      0     \n",
       "6 2                      1     "
      ]
     },
     "metadata": {},
     "output_type": "display_data"
    }
   ],
   "source": [
    "head(satisfactionData)"
   ]
  },
  {
   "cell_type": "markdown",
   "id": "b0071aae",
   "metadata": {},
   "source": [
    "The data have been inputted in wide format: each row represents a person. Notice also that four different columns represent the repeated-measures variable of time (<u>outcome variable</u>). However, there might be a situation, where we need the variable Time to be represented by a single column. \n",
    "\n",
    "So, in long format, the dataframe would have: person, <u>index variable</u> of satisfactions, and value columns, as can be seen below."
   ]
  },
  {
   "cell_type": "markdown",
   "id": "c44ae1b0",
   "metadata": {},
   "source": [
    "#### Convert wide and long formats"
   ]
  },
  {
   "cell_type": "code",
   "execution_count": 40,
   "id": "5844b73f",
   "metadata": {},
   "outputs": [
    {
     "data": {
      "text/html": [
       "<table>\n",
       "<thead><tr><th scope=col>values</th><th scope=col>ind</th></tr></thead>\n",
       "<tbody>\n",
       "\t<tr><td>6                </td><td>Satisfaction_Base</td></tr>\n",
       "\t<tr><td>7                </td><td>Satisfaction_Base</td></tr>\n",
       "\t<tr><td>4                </td><td>Satisfaction_Base</td></tr>\n",
       "\t<tr><td>6                </td><td>Satisfaction_Base</td></tr>\n",
       "\t<tr><td>6                </td><td>Satisfaction_Base</td></tr>\n",
       "\t<tr><td>5                </td><td>Satisfaction_Base</td></tr>\n",
       "</tbody>\n",
       "</table>\n"
      ],
      "text/latex": [
       "\\begin{tabular}{r|ll}\n",
       " values & ind\\\\\n",
       "\\hline\n",
       "\t 6                   & Satisfaction\\_Base\\\\\n",
       "\t 7                   & Satisfaction\\_Base\\\\\n",
       "\t 4                   & Satisfaction\\_Base\\\\\n",
       "\t 6                   & Satisfaction\\_Base\\\\\n",
       "\t 6                   & Satisfaction\\_Base\\\\\n",
       "\t 5                   & Satisfaction\\_Base\\\\\n",
       "\\end{tabular}\n"
      ],
      "text/markdown": [
       "\n",
       "| values | ind |\n",
       "|---|---|\n",
       "| 6                 | Satisfaction_Base |\n",
       "| 7                 | Satisfaction_Base |\n",
       "| 4                 | Satisfaction_Base |\n",
       "| 6                 | Satisfaction_Base |\n",
       "| 6                 | Satisfaction_Base |\n",
       "| 5                 | Satisfaction_Base |\n",
       "\n"
      ],
      "text/plain": [
       "  values ind              \n",
       "1 6      Satisfaction_Base\n",
       "2 7      Satisfaction_Base\n",
       "3 4      Satisfaction_Base\n",
       "4 6      Satisfaction_Base\n",
       "5 6      Satisfaction_Base\n",
       "6 5      Satisfaction_Base"
      ]
     },
     "metadata": {},
     "output_type": "display_data"
    }
   ],
   "source": [
    "satisfactionStacked<-stack(satisfactionData, \n",
    "                           select = c(\"Satisfaction_Base\", \n",
    "                                      \"Satisfaction_6_Months\", \n",
    "                                      \"Satisfaction_12_Months\", \n",
    "                                      \"Satisfaction_18_Months\"))\n",
    "head(satisfactionStacked)"
   ]
  },
  {
   "cell_type": "code",
   "execution_count": 41,
   "id": "0a277aca",
   "metadata": {},
   "outputs": [
    {
     "data": {
      "text/html": [
       "<table>\n",
       "<thead><tr><th scope=col>Satisfaction_Base</th><th scope=col>Satisfaction_6_Months</th><th scope=col>Satisfaction_12_Months</th><th scope=col>Satisfaction_18_Months</th></tr></thead>\n",
       "<tbody>\n",
       "\t<tr><td>6 </td><td> 6</td><td>5 </td><td>2 </td></tr>\n",
       "\t<tr><td>7 </td><td> 7</td><td>8 </td><td>4 </td></tr>\n",
       "\t<tr><td>4 </td><td> 6</td><td>2 </td><td>2 </td></tr>\n",
       "\t<tr><td>6 </td><td> 9</td><td>4 </td><td>1 </td></tr>\n",
       "\t<tr><td>6 </td><td> 7</td><td>6 </td><td>6 </td></tr>\n",
       "\t<tr><td>5 </td><td>10</td><td>4 </td><td>2 </td></tr>\n",
       "</tbody>\n",
       "</table>\n"
      ],
      "text/latex": [
       "\\begin{tabular}{r|llll}\n",
       " Satisfaction\\_Base & Satisfaction\\_6\\_Months & Satisfaction\\_12\\_Months & Satisfaction\\_18\\_Months\\\\\n",
       "\\hline\n",
       "\t 6  &  6 & 5  & 2 \\\\\n",
       "\t 7  &  7 & 8  & 4 \\\\\n",
       "\t 4  &  6 & 2  & 2 \\\\\n",
       "\t 6  &  9 & 4  & 1 \\\\\n",
       "\t 6  &  7 & 6  & 6 \\\\\n",
       "\t 5  & 10 & 4  & 2 \\\\\n",
       "\\end{tabular}\n"
      ],
      "text/markdown": [
       "\n",
       "| Satisfaction_Base | Satisfaction_6_Months | Satisfaction_12_Months | Satisfaction_18_Months |\n",
       "|---|---|---|---|\n",
       "| 6  |  6 | 5  | 2  |\n",
       "| 7  |  7 | 8  | 4  |\n",
       "| 4  |  6 | 2  | 2  |\n",
       "| 6  |  9 | 4  | 1  |\n",
       "| 6  |  7 | 6  | 6  |\n",
       "| 5  | 10 | 4  | 2  |\n",
       "\n"
      ],
      "text/plain": [
       "  Satisfaction_Base Satisfaction_6_Months Satisfaction_12_Months\n",
       "1 6                  6                    5                     \n",
       "2 7                  7                    8                     \n",
       "3 4                  6                    2                     \n",
       "4 6                  9                    4                     \n",
       "5 6                  7                    6                     \n",
       "6 5                 10                    4                     \n",
       "  Satisfaction_18_Months\n",
       "1 2                     \n",
       "2 4                     \n",
       "3 2                     \n",
       "4 1                     \n",
       "5 6                     \n",
       "6 2                     "
      ]
     },
     "metadata": {},
     "output_type": "display_data"
    }
   ],
   "source": [
    "satisfactionUnstacked<-unstack(satisfactionStacked, values ~ ind)\n",
    "head(satisfactionUnstacked)"
   ]
  },
  {
   "cell_type": "code",
   "execution_count": 42,
   "id": "455cd1d9",
   "metadata": {},
   "outputs": [
    {
     "data": {
      "text/html": [
       "<table>\n",
       "<thead><tr><th scope=col>Person</th><th scope=col>Gender</th><th scope=col>variable</th><th scope=col>value</th></tr></thead>\n",
       "<tbody>\n",
       "\t<tr><td> 1               </td><td>0                </td><td>Satisfaction_Base</td><td> 6               </td></tr>\n",
       "\t<tr><td> 2               </td><td>1                </td><td>Satisfaction_Base</td><td> 7               </td></tr>\n",
       "\t<tr><td> 3               </td><td>1                </td><td>Satisfaction_Base</td><td> 4               </td></tr>\n",
       "\t<tr><td> 4               </td><td>0                </td><td>Satisfaction_Base</td><td> 6               </td></tr>\n",
       "\t<tr><td> 5               </td><td>0                </td><td>Satisfaction_Base</td><td> 6               </td></tr>\n",
       "\t<tr><td> 6               </td><td>1                </td><td>Satisfaction_Base</td><td> 5               </td></tr>\n",
       "\t<tr><td> 7               </td><td>0                </td><td>Satisfaction_Base</td><td> 6               </td></tr>\n",
       "\t<tr><td> 8               </td><td>0                </td><td>Satisfaction_Base</td><td> 2               </td></tr>\n",
       "\t<tr><td> 9               </td><td>0                </td><td>Satisfaction_Base</td><td>10               </td></tr>\n",
       "\t<tr><td>10               </td><td>0                </td><td>Satisfaction_Base</td><td>10               </td></tr>\n",
       "\t<tr><td>11               </td><td>0                </td><td>Satisfaction_Base</td><td> 8               </td></tr>\n",
       "\t<tr><td>12               </td><td>0                </td><td>Satisfaction_Base</td><td> 6               </td></tr>\n",
       "\t<tr><td>13               </td><td>1                </td><td>Satisfaction_Base</td><td> 7               </td></tr>\n",
       "\t<tr><td>14               </td><td>0                </td><td>Satisfaction_Base</td><td> 6               </td></tr>\n",
       "\t<tr><td>15               </td><td>1                </td><td>Satisfaction_Base</td><td> 9               </td></tr>\n",
       "\t<tr><td>16               </td><td>1                </td><td>Satisfaction_Base</td><td>10               </td></tr>\n",
       "\t<tr><td>17               </td><td>1                </td><td>Satisfaction_Base</td><td> 1               </td></tr>\n",
       "\t<tr><td>18               </td><td>0                </td><td>Satisfaction_Base</td><td> 5               </td></tr>\n",
       "\t<tr><td>19               </td><td>1                </td><td>Satisfaction_Base</td><td> 6               </td></tr>\n",
       "\t<tr><td>20               </td><td>0                </td><td>Satisfaction_Base</td><td> 5               </td></tr>\n",
       "</tbody>\n",
       "</table>\n"
      ],
      "text/latex": [
       "\\begin{tabular}{r|llll}\n",
       " Person & Gender & variable & value\\\\\n",
       "\\hline\n",
       "\t  1                  & 0                   & Satisfaction\\_Base &  6                 \\\\\n",
       "\t  2                  & 1                   & Satisfaction\\_Base &  7                 \\\\\n",
       "\t  3                  & 1                   & Satisfaction\\_Base &  4                 \\\\\n",
       "\t  4                  & 0                   & Satisfaction\\_Base &  6                 \\\\\n",
       "\t  5                  & 0                   & Satisfaction\\_Base &  6                 \\\\\n",
       "\t  6                  & 1                   & Satisfaction\\_Base &  5                 \\\\\n",
       "\t  7                  & 0                   & Satisfaction\\_Base &  6                 \\\\\n",
       "\t  8                  & 0                   & Satisfaction\\_Base &  2                 \\\\\n",
       "\t  9                  & 0                   & Satisfaction\\_Base & 10                 \\\\\n",
       "\t 10                  & 0                   & Satisfaction\\_Base & 10                 \\\\\n",
       "\t 11                  & 0                   & Satisfaction\\_Base &  8                 \\\\\n",
       "\t 12                  & 0                   & Satisfaction\\_Base &  6                 \\\\\n",
       "\t 13                  & 1                   & Satisfaction\\_Base &  7                 \\\\\n",
       "\t 14                  & 0                   & Satisfaction\\_Base &  6                 \\\\\n",
       "\t 15                  & 1                   & Satisfaction\\_Base &  9                 \\\\\n",
       "\t 16                  & 1                   & Satisfaction\\_Base & 10                 \\\\\n",
       "\t 17                  & 1                   & Satisfaction\\_Base &  1                 \\\\\n",
       "\t 18                  & 0                   & Satisfaction\\_Base &  5                 \\\\\n",
       "\t 19                  & 1                   & Satisfaction\\_Base &  6                 \\\\\n",
       "\t 20                  & 0                   & Satisfaction\\_Base &  5                 \\\\\n",
       "\\end{tabular}\n"
      ],
      "text/markdown": [
       "\n",
       "| Person | Gender | variable | value |\n",
       "|---|---|---|---|\n",
       "|  1                | 0                 | Satisfaction_Base |  6                |\n",
       "|  2                | 1                 | Satisfaction_Base |  7                |\n",
       "|  3                | 1                 | Satisfaction_Base |  4                |\n",
       "|  4                | 0                 | Satisfaction_Base |  6                |\n",
       "|  5                | 0                 | Satisfaction_Base |  6                |\n",
       "|  6                | 1                 | Satisfaction_Base |  5                |\n",
       "|  7                | 0                 | Satisfaction_Base |  6                |\n",
       "|  8                | 0                 | Satisfaction_Base |  2                |\n",
       "|  9                | 0                 | Satisfaction_Base | 10                |\n",
       "| 10                | 0                 | Satisfaction_Base | 10                |\n",
       "| 11                | 0                 | Satisfaction_Base |  8                |\n",
       "| 12                | 0                 | Satisfaction_Base |  6                |\n",
       "| 13                | 1                 | Satisfaction_Base |  7                |\n",
       "| 14                | 0                 | Satisfaction_Base |  6                |\n",
       "| 15                | 1                 | Satisfaction_Base |  9                |\n",
       "| 16                | 1                 | Satisfaction_Base | 10                |\n",
       "| 17                | 1                 | Satisfaction_Base |  1                |\n",
       "| 18                | 0                 | Satisfaction_Base |  5                |\n",
       "| 19                | 1                 | Satisfaction_Base |  6                |\n",
       "| 20                | 0                 | Satisfaction_Base |  5                |\n",
       "\n"
      ],
      "text/plain": [
       "   Person Gender variable          value\n",
       "1   1     0      Satisfaction_Base  6   \n",
       "2   2     1      Satisfaction_Base  7   \n",
       "3   3     1      Satisfaction_Base  4   \n",
       "4   4     0      Satisfaction_Base  6   \n",
       "5   5     0      Satisfaction_Base  6   \n",
       "6   6     1      Satisfaction_Base  5   \n",
       "7   7     0      Satisfaction_Base  6   \n",
       "8   8     0      Satisfaction_Base  2   \n",
       "9   9     0      Satisfaction_Base 10   \n",
       "10 10     0      Satisfaction_Base 10   \n",
       "11 11     0      Satisfaction_Base  8   \n",
       "12 12     0      Satisfaction_Base  6   \n",
       "13 13     1      Satisfaction_Base  7   \n",
       "14 14     0      Satisfaction_Base  6   \n",
       "15 15     1      Satisfaction_Base  9   \n",
       "16 16     1      Satisfaction_Base 10   \n",
       "17 17     1      Satisfaction_Base  1   \n",
       "18 18     0      Satisfaction_Base  5   \n",
       "19 19     1      Satisfaction_Base  6   \n",
       "20 20     0      Satisfaction_Base  5   "
      ]
     },
     "metadata": {},
     "output_type": "display_data"
    }
   ],
   "source": [
    "restructuredData<-melt(satisfactionData, id = c(\"Person\", \"Gender\"), \n",
    "                       measured = c(\"Satisfaction_Base\", \n",
    "                                    \"Satisfaction_6_Months\", \n",
    "                                    \"Satisfaction_12_Months\", \n",
    "                                    \"Satisfaction_18_Months\"))\n",
    "head(restructuredData, n=20)"
   ]
  },
  {
   "cell_type": "code",
   "execution_count": 43,
   "id": "2c45ba07",
   "metadata": {},
   "outputs": [
    {
     "data": {
      "text/html": [
       "<table>\n",
       "<thead><tr><th scope=col>Person</th><th scope=col>Gender</th><th scope=col>Satisfaction_Base</th><th scope=col>Satisfaction_6_Months</th><th scope=col>Satisfaction_12_Months</th><th scope=col>Satisfaction_18_Months</th></tr></thead>\n",
       "<tbody>\n",
       "\t<tr><td>1 </td><td>0 </td><td>6 </td><td> 6</td><td>5 </td><td>2 </td></tr>\n",
       "\t<tr><td>2 </td><td>1 </td><td>7 </td><td> 7</td><td>8 </td><td>4 </td></tr>\n",
       "\t<tr><td>3 </td><td>1 </td><td>4 </td><td> 6</td><td>2 </td><td>2 </td></tr>\n",
       "\t<tr><td>4 </td><td>0 </td><td>6 </td><td> 9</td><td>4 </td><td>1 </td></tr>\n",
       "\t<tr><td>5 </td><td>0 </td><td>6 </td><td> 7</td><td>6 </td><td>6 </td></tr>\n",
       "\t<tr><td>6 </td><td>1 </td><td>5 </td><td>10</td><td>4 </td><td>2 </td></tr>\n",
       "</tbody>\n",
       "</table>\n"
      ],
      "text/latex": [
       "\\begin{tabular}{r|llllll}\n",
       " Person & Gender & Satisfaction\\_Base & Satisfaction\\_6\\_Months & Satisfaction\\_12\\_Months & Satisfaction\\_18\\_Months\\\\\n",
       "\\hline\n",
       "\t 1  & 0  & 6  &  6 & 5  & 2 \\\\\n",
       "\t 2  & 1  & 7  &  7 & 8  & 4 \\\\\n",
       "\t 3  & 1  & 4  &  6 & 2  & 2 \\\\\n",
       "\t 4  & 0  & 6  &  9 & 4  & 1 \\\\\n",
       "\t 5  & 0  & 6  &  7 & 6  & 6 \\\\\n",
       "\t 6  & 1  & 5  & 10 & 4  & 2 \\\\\n",
       "\\end{tabular}\n"
      ],
      "text/markdown": [
       "\n",
       "| Person | Gender | Satisfaction_Base | Satisfaction_6_Months | Satisfaction_12_Months | Satisfaction_18_Months |\n",
       "|---|---|---|---|---|---|\n",
       "| 1  | 0  | 6  |  6 | 5  | 2  |\n",
       "| 2  | 1  | 7  |  7 | 8  | 4  |\n",
       "| 3  | 1  | 4  |  6 | 2  | 2  |\n",
       "| 4  | 0  | 6  |  9 | 4  | 1  |\n",
       "| 5  | 0  | 6  |  7 | 6  | 6  |\n",
       "| 6  | 1  | 5  | 10 | 4  | 2  |\n",
       "\n"
      ],
      "text/plain": [
       "  Person Gender Satisfaction_Base Satisfaction_6_Months Satisfaction_12_Months\n",
       "1 1      0      6                  6                    5                     \n",
       "2 2      1      7                  7                    8                     \n",
       "3 3      1      4                  6                    2                     \n",
       "4 4      0      6                  9                    4                     \n",
       "5 5      0      6                  7                    6                     \n",
       "6 6      1      5                 10                    4                     \n",
       "  Satisfaction_18_Months\n",
       "1 2                     \n",
       "2 4                     \n",
       "3 2                     \n",
       "4 1                     \n",
       "5 6                     \n",
       "6 2                     "
      ]
     },
     "metadata": {},
     "output_type": "display_data"
    }
   ],
   "source": [
    "wideData<-cast(restructuredData, Person + Gender ~ variable, value = \"value\")\n",
    "head(wideData)"
   ]
  },
  {
   "cell_type": "markdown",
   "id": "f80aea4e",
   "metadata": {},
   "source": [
    "### 5. Plotting Data"
   ]
  },
  {
   "cell_type": "code",
   "execution_count": 44,
   "id": "4cc21605",
   "metadata": {},
   "outputs": [],
   "source": [
    "facebookData <- read.delim(\"dsur/FacebookNarcissism.dat\", header = TRUE)"
   ]
  },
  {
   "cell_type": "markdown",
   "id": "681b74e6",
   "metadata": {},
   "source": [
    "#### 5.1. The anatomy of a plot"
   ]
  },
  {
   "cell_type": "markdown",
   "id": "1905dcf1",
   "metadata": {},
   "source": [
    "A plot is made up of a series of layers. \n",
    "\n",
    "Each layer contains visual objects such as bars, data points, text and so on. Visual elements are known as geoms (short for \"geometric objects\") in ggplot2.\n",
    "\n",
    "There are a variety of geoms functions:\n",
    "- geom_bar(): creates a layer with bars representing different statistical properties.\n",
    "- geom_point(): creates a layer showing the data points (as you would see on a scatterplot).\n",
    "- geom_line(): creates a layer that connects data points with a straight line.\n",
    "- geom_smooth(): creates a layer that contains a ‘smoother’ (i.e., a line that summarizes the data as a whole rather than connecting individual data points).\n",
    "- geom_histogram(): creates a layer with a histogram on it.\n",
    "- geom_boxplot(): creates a layer with a box–whisker diagram.\n",
    "- geom_text(): creates a layer with text on it.\n",
    "- geom_density(): creates a layer with a density plot on it.\n",
    "- geom_errorbar(): creates a layer with error bars displayed on it.\n",
    "- geom_hline() or geom_vline(): create a layer with a user-defined horizontal or vertical line.\n",
    "\n",
    "Notice that each geom is followed by ‘()’, which means that it can accept aesthetics that specify how the layer looks (e.g.: colour, size, fill, alpha, angle, etc.). "
   ]
  },
  {
   "cell_type": "markdown",
   "id": "3150c1a7",
   "metadata": {},
   "source": [
    "#### 5.2. The anatomy of the ggplot function"
   ]
  },
  {
   "cell_type": "code",
   "execution_count": 45,
   "id": "8fce3e42",
   "metadata": {},
   "outputs": [],
   "source": [
    "# myGraph <- ggplot(myData, aes(x=variable, y=variable)) + ggtitle(\"title\")\n",
    "# myGraph + geom_bar() + geom_point(colour = \"Blue\")\n",
    "# myGraph + geom_point(shape = 17, colour =\" \"Blue\")\n",
    "# myGraph + geom_bar() + geom_point() + labels(x = \"Text\", y = \"Text\")"
   ]
  },
  {
   "cell_type": "code",
   "execution_count": 46,
   "id": "8765767f",
   "metadata": {},
   "outputs": [
    {
     "data": {
      "image/png": "[encoded data removed]",
      "text/plain": [
       "plot without title"
      ]
     },
     "metadata": {},
     "output_type": "display_data"
    }
   ],
   "source": [
    "graph <- ggplot(facebookData, aes(NPQC_R_Total, Rating))\n",
    "graph + geom_point(shape = 17, size=3, \n",
    "                   aes(colour = Rating_Type), position = \"jitter\")"
   ]
  },
  {
   "cell_type": "markdown",
   "id": "3742a8e1",
   "metadata": {},
   "source": [
    "#### 5.2.1. Graphing relationships: the scatterplot"
   ]
  },
  {
   "cell_type": "code",
   "execution_count": 47,
   "id": "bf12a6d0",
   "metadata": {},
   "outputs": [],
   "source": [
    "examData <- read.delim(\"dsur/Exam Anxiety.dat\", header = TRUE)"
   ]
  },
  {
   "cell_type": "code",
   "execution_count": 48,
   "id": "9d93f53a",
   "metadata": {},
   "outputs": [
    {
     "data": {
      "image/png": "[encoded data removed]",
      "text/plain": [
       "plot without title"
      ]
     },
     "metadata": {},
     "output_type": "display_data"
    }
   ],
   "source": [
    "scatter <- ggplot(examData, aes(Anxiety, Exam))\n",
    "scatter + geom_point() + labs(x = \"Exam Anxiety\", y = \"Exam Performance %\")"
   ]
  },
  {
   "cell_type": "markdown",
   "id": "2937b42b",
   "metadata": {},
   "source": [
    "The scatterplot tells us that: \n",
    "- the majority of students suffered from high levels of anxiety \n",
    "- there are no obvious outliers in that most points seem to fall within the vicinity of other points. \n",
    "- there also seems to be some general trend in the data, such that low levels of anxiety are almost always associated with high examination marks (and high anxiety is associated with a lot of variability in exam marks). "
   ]
  },
  {
   "cell_type": "code",
   "execution_count": 49,
   "id": "27593b92",
   "metadata": {},
   "outputs": [
    {
     "name": "stderr",
     "output_type": "stream",
     "text": [
      "`geom_smooth()` using formula 'y ~ x'\n"
     ]
    },
    {
     "data": {
      "image/png": "[encoded data removed]",
      "text/plain": [
       "plot without title"
      ]
     },
     "metadata": {},
     "output_type": "display_data"
    }
   ],
   "source": [
    "scatter + geom_point() + \n",
    "geom_smooth(method=\"lm\", colour=\"Red\", alpha = 0.1, fill = \"Blue\") + \n",
    "labs(x = \"Exam Anxiety\", y = \"Exam Performance %\")"
   ]
  },
  {
   "cell_type": "markdown",
   "id": "004058a9",
   "metadata": {},
   "source": [
    "The scatterplot now has a smoother line (\"lm\" means linear model) summarizing the relationship between exam anxiety and exam performance. The shaded area around the line is the 95% confidence interval around the line. "
   ]
  },
  {
   "cell_type": "markdown",
   "id": "4f59557d",
   "metadata": {},
   "source": [
    "#### Grouped scatterplot"
   ]
  },
  {
   "cell_type": "code",
   "execution_count": 50,
   "id": "d1191f46",
   "metadata": {},
   "outputs": [
    {
     "name": "stderr",
     "output_type": "stream",
     "text": [
      "`geom_smooth()` using formula 'y ~ x'\n"
     ]
    },
    {
     "data": {
      "image/png": "[encoded data removed]",
      "text/plain": [
       "plot without title"
      ]
     },
     "metadata": {},
     "output_type": "display_data"
    }
   ],
   "source": [
    "scatter <- ggplot(examData, aes(Anxiety, Exam, colour = Gender))\n",
    "\n",
    "scatter + geom_point() + \n",
    "geom_smooth(method = \"lm\", aes(fill = Gender), alpha = 0.1) +\n",
    "labs(x = \"Exam Anxiety\", y = \"Exam Performance %\", colour = \"Gender\")"
   ]
  },
  {
   "cell_type": "markdown",
   "id": "08ca953e",
   "metadata": {},
   "source": [
    "#### 5.2.2. Spotting problems: the histogram"
   ]
  },
  {
   "cell_type": "code",
   "execution_count": 51,
   "id": "dce05661",
   "metadata": {},
   "outputs": [],
   "source": [
    "# ...."
   ]
  },
  {
   "cell_type": "markdown",
   "id": "509ee31a",
   "metadata": {},
   "source": [
    "#### 5.3. Saving graphs"
   ]
  },
  {
   "cell_type": "code",
   "execution_count": 52,
   "id": "5eadeb4b",
   "metadata": {},
   "outputs": [],
   "source": [
    "# ggsave(filename.extension, width=10, height=10)"
   ]
  },
  {
   "cell_type": "markdown",
   "id": "7414a49f",
   "metadata": {},
   "source": [
    "### 7. Saving Data"
   ]
  },
  {
   "cell_type": "code",
   "execution_count": 53,
   "id": "0c6a4861",
   "metadata": {},
   "outputs": [],
   "source": [
    "# write.table(dataframe, \"Filename.txt\", sep=\"\\t\", row.names = FALSE)\n",
    "# write.csv(dataframe, \"Filename.csv\")"
   ]
  }
 ],
 "metadata": {
  "kernelspec": {
   "display_name": "R",
   "language": "R",
   "name": "ir"
  },
  "language_info": {
   "codemirror_mode": "r",
   "file_extension": ".r",
   "mimetype": "text/x-r-source",
   "name": "R",
   "pygments_lexer": "r",
   "version": "3.6.1"
  }
 },
 "nbformat": 4,
 "nbformat_minor": 5
}
