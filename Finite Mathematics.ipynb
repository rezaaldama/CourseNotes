{
 "cells": [
  {
   "cell_type": "markdown",
   "id": "4003b4fc",
   "metadata": {},
   "source": [
    "# Finite Mathematics"
   ]
  },
  {
   "cell_type": "markdown",
   "id": "581d24dd",
   "metadata": {},
   "source": [
    "## 1. Straight and Linear Functions"
   ]
  },
  {
   "cell_type": "markdown",
   "id": "e86ea05a",
   "metadata": {},
   "source": [
    "### 1.1. Cartesian Coordinate System"
   ]
  },
  {
   "cell_type": "markdown",
   "id": "e60b7700",
   "metadata": {},
   "source": [
    "#### 1.1.1. Distance Formula"
   ]
  },
  {
   "cell_type": "markdown",
   "id": "e39197f2",
   "metadata": {},
   "source": [
    "To find distance (d) between two points:\n",
    "\n",
    "$ d = \\sqrt{(x_{2}-x_{1})^2+(y_{2}-y_{1})^2} $"
   ]
  },
  {
   "cell_type": "markdown",
   "id": "579656a6",
   "metadata": {},
   "source": [
    "The result could be used to calculate variable cost of installing something (e.g. submarine cable) by knowing its distance. The distance between start $(x_{1}, 0)$ and destination point $(0, y_{2})$ is d and it will affect variable cost (VC). Therefore: \n",
    "\n",
    "$ d = \\sqrt{0-x_{1})^2+(y_{2}-0)^2} \\rightarrow TC = FC + VC(d) $"
   ]
  },
  {
   "cell_type": "markdown",
   "id": "cbfac12c",
   "metadata": {},
   "source": [
    "### 1.2. Straight Lines"
   ]
  },
  {
   "cell_type": "markdown",
   "id": "8eb81080",
   "metadata": {},
   "source": [
    "#### 1.2.1. Slope of a line"
   ]
  },
  {
   "cell_type": "markdown",
   "id": "27a27585",
   "metadata": {},
   "source": [
    "To find slope m of L (non-vertical straight line that passes two points):\n",
    "\n",
    "$\n",
    "m = \\Large \\frac{\\Delta y}{\\Delta x} = \\frac{y_{2}-y_{1}}{x_{2}-x_{1}}\n",
    "$\n",
    "\n",
    "The slope m is a measure of the rate of change of y with respect to x."
   ]
  },
  {
   "cell_type": "markdown",
   "id": "ec7908b7",
   "metadata": {},
   "source": [
    "The result could be used to calculate straight-line depreciation cost per time (slope D) where x is the value of an asset (V) and y is the useful life of an asset (T): \n",
    "\n",
    "At the beginning of the depreciation (coordinate 1), time is zero and the value is V, while at the end of depreciation (coordinate 2), the time is T and the value is zero. Therefore:\n",
    "\n",
    "$\n",
    "D = \\Large \\frac{0-V}{T-0} = \\frac{-V}{T}\n",
    "$"
   ]
  },
  {
   "cell_type": "markdown",
   "id": "c52ee4c4",
   "metadata": {},
   "source": [
    "#### 1.2.2. Equation of a line"
   ]
  },
  {
   "cell_type": "markdown",
   "id": "6b4ea8bc",
   "metadata": {},
   "source": [
    "Upon multiplying both sides of the slope m equation by $x-x_{1}$, we obtain:\n",
    "\n",
    "$ y-y_{1} = m(x-x_{1}) $\n",
    "\n",
    "Which results on the <b>point-slope form</b> that has slope m and passes through the point $(x_{1}, y_{1})$."
   ]
  },
  {
   "cell_type": "markdown",
   "id": "331e3f09",
   "metadata": {},
   "source": [
    "Then, the line that has slope m and intersects the y-axis at the point $(0, b)$ is given by following equation, which also known as <b>slope-intercept form</b>:\n",
    "\n",
    "$ y = mx + b $"
   ]
  },
  {
   "cell_type": "markdown",
   "id": "bf7606b5",
   "metadata": {},
   "source": [
    "Following the previous depreciation example, after knowing the depreciation cost over time, we could calculate the current value of an asset by given time (t):\n",
    "\n",
    "$ V_{t} = dT + V_{0} $"
   ]
  },
  {
   "cell_type": "markdown",
   "id": "002a1482",
   "metadata": {},
   "source": [
    "Another example would be sales forecasting. First, we know two points to find the slope m. Then, we obtain its point-slope form by using m and previous point. Finally, we convert the point-slope form to slope-intercept form for sales forecasting where y (sales), x (year), and b (fixed sales)."
   ]
  },
  {
   "cell_type": "markdown",
   "id": "1c960add",
   "metadata": {},
   "source": [
    "#### 1.2.3. General form of an equation line"
   ]
  },
  {
   "cell_type": "markdown",
   "id": "c8db73a7",
   "metadata": {},
   "source": [
    "Finally, we have the <b>standard form</b> or <b>general form</b> of an equation of line that is expressed by: \n",
    "\n",
    "$ Ax + By = C \\text{  or  } Ax + By + C = 0 $"
   ]
  },
  {
   "cell_type": "markdown",
   "id": "89f38b5e",
   "metadata": {},
   "source": [
    "### 1.3. Linear Function and Mathematical Models "
   ]
  },
  {
   "cell_type": "markdown",
   "id": "c1fa2440",
   "metadata": {},
   "source": [
    "#### 1.3.1. Mathematical Models"
   ]
  },
  {
   "cell_type": "markdown",
   "id": "3dc1e363",
   "metadata": {},
   "source": [
    "- Given a real-world problem, we need to <u>formulate</u> the problem using language of mathematics\n",
    "- Once mathematical model has been constructed, we can use mathematical techniques to <u>solve</u> the problem\n",
    "- After knowing the solution, we <u>interpret</u> the results in the context of original real-world\n",
    "- Finally, we <u>test</u> the accuracy of the model by observing how well it desribes the real-world"
   ]
  },
  {
   "cell_type": "markdown",
   "id": "03ce3dd0",
   "metadata": {},
   "source": [
    "A <u>function</u> $f$ is a rule that assigns to each value of $x$ one and only one value of $y$. The number $y$ is denoted by $f(x)$ (\"f of x\") emphasizing the dependency of $y$ on $x$. \n",
    "\n",
    "Suppose we are given the function $y = f(x)$. The variable $x$ is referred to as the <u>independent variable</u>, and the variable $y$ is referred to <u>dependent variable</u>. \n",
    "\n",
    "The set of all the values assumed the by $x$ is <u>domain</u> of the function $f$, and the set comprising all the values assumed by $y = f(x)$ as $x$ takes on all possible values in domain is called the <u>range</u> of the function $f$."
   ]
  },
  {
   "cell_type": "markdown",
   "id": "06433f85",
   "metadata": {},
   "source": [
    "#### 1.3.2. Linear function"
   ]
  },
  {
   "cell_type": "markdown",
   "id": "4f1a7203",
   "metadata": {},
   "source": [
    "The function $f$ is defined by: $ f(x) = mx + b $ where $m$ and $b$ are constants.\n",
    "\n",
    "Example of linear functions:\n",
    "\n",
    "$ C(x) = cx + F $: total cost of manufacturing $x$ units of the product\n",
    "\n",
    "$ R(x) = sx$: total revenue realized of selling $x$ units of the product\n",
    "\n",
    "$ P(x) = (s-c)x - F$: total profit realized from manufacturing and selling $x$ units of the product\n",
    "\n",
    "$ p(x) = F - mx$: total demand, where p is unit price and x is quantity.\n",
    "\n",
    "$ p(x) = F + mx$: total supply, where p is unit price and x is quantity."
   ]
  },
  {
   "cell_type": "markdown",
   "id": "f2bcef30",
   "metadata": {},
   "source": [
    "### 1.4. Intersection of Straight Lines"
   ]
  },
  {
   "cell_type": "markdown",
   "id": "ac76f1e3",
   "metadata": {},
   "source": [
    "#### 1.4.1. Finding the point of intersection"
   ]
  },
  {
   "cell_type": "markdown",
   "id": "84878e75",
   "metadata": {},
   "source": [
    "Suppose we are given two straight lines $L_{1}$ and $L_{2}$. The point of intersection $P(x_{0},y_{0})$ lies in both lines and satisfies both equations. Therefore, we need to solve the system composed of the two equations by subtitutes the value of y, then subtitutes the known value of x into either one of the given equations: \n",
    "\n",
    "$ y = y \\rightarrow m_{1}x + b_{1} = m_{2}x + b_{2} \\rightarrow y = mx + b$\n",
    "\n",
    "Some applications involving the intersections of pairs of straight lines, including break-even analysis and market equilibrium. "
   ]
  },
  {
   "cell_type": "markdown",
   "id": "1a4ad19c",
   "metadata": {},
   "source": [
    "#### 1.4.2. Break-Even Analysis"
   ]
  },
  {
   "cell_type": "markdown",
   "id": "24189b62",
   "metadata": {},
   "source": [
    "Consider a firm with linear cost, revenue, and profit function. The level of production at which the firm neither makes a profit nor sustains a loss is called the <u>break-even level of operation</u> and may be determined by solving the equations $ y = C(x) and y = R(x)$ simultaneously: \n",
    "\n",
    "$ P(x_{0}) = R(X_{0}) - C(X_{0}) = 0 \\rightarrow R(X_{0}) = C(X_{0}) \\rightarrow R(x) = sx \\ $ and $ \\ C(x)= cx + F $"
   ]
  },
  {
   "cell_type": "markdown",
   "id": "3eef9bda",
   "metadata": {},
   "source": [
    "#### 1.4.3. Market Equilibrium"
   ]
  },
  {
   "cell_type": "markdown",
   "id": "aaae8909",
   "metadata": {},
   "source": [
    "Under pure competition, <u>market equilibrium</u> is said to prevail when the quantity produced is equal to the quantity demanded. The quantity produced at market equilibrium is called the <u>equilibrium quantity</u> (Q), and the corresponding price is called the </u>equilibrium price</u> (P):\n",
    "\n",
    "$ aQ + bP + c = 0 $ (Demand equation)\n",
    "\n",
    "$ aQ - bP + c = 0 $ (Supply equation)\n",
    "\n",
    "By using the method of substitution for above equations, we would know the value of Q and P."
   ]
  },
  {
   "cell_type": "markdown",
   "id": "80fd5dd7",
   "metadata": {},
   "source": [
    "### 1.5. The Method of Least Squares"
   ]
  },
  {
   "cell_type": "markdown",
   "id": "cc5d7b01",
   "metadata": {},
   "source": [
    "We describe a general method known as the <u>method of least squares </u> for determining a straight line that, in some sense, best fits a set of data points when the points are scattered about a straight line, that is usually plotted using <u>scatter diagram</u>.\n",
    "\n",
    "The <u>principle of least squares</u> states that the straight line $L$ that fits the data points best is the one chosen by requiring that the sum of the squares of d (vertical distance between $L$ and a given data point) values be made as small as possible. The line $L$ obtained in this manner is called the <u>least-squares line</u>, or <u>regression line</u>.\n",
    "\n",
    "Suppose we are given n data points:\n",
    "\n",
    "$ P_{1}(x_{1}, y_{1}), ..., P{n}(x_{n},y_{n}) $\n",
    "\n",
    "Then, the least-squares line for the data is given by:\n",
    "\n",
    "$ y = f(x) = mx + b $\n",
    "\n",
    "where the constants m and b satisfy the normal equations simultaneously:\n",
    "\n",
    "$ nb + (x_{1} + ... + x_{n})m = y_{1} + ... + y_{n} $\n",
    "\n",
    "$ (x_{1} + ... + x_{n})b + (x^2_{1} + ... + x^2_{n})m = x_{1}y_{1} + ... + x_{n}y_{n} $\n",
    "\n",
    "or\n",
    "\n",
    "1st equation: $ nb + (\\sum x)m = \\sum y $\n",
    "\n",
    "2nd equation: $ (\\sum x)b + (\\sum x^2)m = \\sum xy $\n",
    "\n",
    "By using the method of substitution for above equations, we would know the value of b and m, then we would know the its least-squares line in slope-intercept form, which could be used to predict the future value of y (e.g.: sales, cost, budget, profit, etc.)."
   ]
  },
  {
   "cell_type": "markdown",
   "id": "644b03bd",
   "metadata": {},
   "source": [
    "## 2. Systems of Linear Equation and Matrices"
   ]
  },
  {
   "cell_type": "markdown",
   "id": "065833d7",
   "metadata": {},
   "source": [
    "### 2.1. Systems of Linear Equations: An Introduction"
   ]
  },
  {
   "cell_type": "markdown",
   "id": "e2baca58",
   "metadata": {},
   "source": [
    "The break-even point and the equilibrium point are two examples of real-world problems that call for the <u>solution of a system of linear equations</u>.\n",
    "\n",
    "Given two straight lines $L_{1}$ and $L_{2}$, one and only one of the following may occur:\n",
    "- $L_{1}$ and $L_{2}$ intersect at exactly one point, thus has a unique solution ($x = c$)\n",
    "- $L_{1}$ and $L_{2}$ are parallel and coincident, thus has infinitely many solution ($c = c$)\n",
    "- $L_{1}$ and $L_{2}$ are parallel and distinct, thus has no solution ($c \\neq d$)\n",
    "\n",
    "The result could be used to calculate the optimal time used to produce each product from every machines given their production functions.\n",
    "\n",
    "A linear equation in n variables is an equation of the form:\n",
    "\n",
    "$ a_{1}x_{1} + a_{2}x_{2} + ... + a_{n}x_{n} = c $\n",
    "\n",
    "where a (not all zero) and c are constants.\n",
    "\n",
    "When the number of variables involved exceeds three (n > 3), or an n-dimensional hyperplane, we no longer have the geometric interpretation we had for the lower-dimensional spaces. "
   ]
  },
  {
   "cell_type": "markdown",
   "id": "97cb61a4",
   "metadata": {},
   "source": [
    "### 2.2. Systems of Linear Equations: Unique Solutions"
   ]
  },
  {
   "cell_type": "markdown",
   "id": "f973c1c5",
   "metadata": {},
   "source": [
    "The method of substitution is well suited to solving a system of linear equations when the number of linear equations and variables is small; otherwise, the method of elimination is used.\n",
    "\n",
    "The system of equations could also be represented by <u>augmented matrics</u> to eliminate writing the variables at each step of the reduction. The submatrix consisting the first columns, excluding the constant values, is called <u>coefficient matrix</u>. The foregoing discussion suggests the following method, called the <u> Gauss–Jordan elimination method</u>, for solving systems of linear equations using matrices. "
   ]
  },
  {
   "cell_type": "markdown",
   "id": "0c5bf35f",
   "metadata": {},
   "source": [
    "### 2.3. Systems of Linear Equations: Underdetermined and Overdetermined Systems"
   ]
  },
  {
   "cell_type": "markdown",
   "id": "c34efc1a",
   "metadata": {},
   "source": [
    "If there are fewer equations than variables in a linear system, then the system\n",
    "either has no solution or has infinitely many solutions.\n",
    "\n",
    "If there is a row in an augmented matrix containing all zeros to the left of the vertical line and a nonzero entry to the right of the line, then the corresponding system of equations has no solution; while, if there is also a zero entry to the right line, then it has infinitely many solutions. "
   ]
  },
  {
   "cell_type": "markdown",
   "id": "44394d4b",
   "metadata": {},
   "source": [
    "### 2.4. Matrices"
   ]
  },
  {
   "cell_type": "markdown",
   "id": "b1eb7e49",
   "metadata": {},
   "source": [
    "Many practical problems are solved by using arithmetic operations on the data associated with the problems. By properly organizing the data into blocks of numbers, we can then carry out these arithmetic operations in an orderly and efficient manner, like a <u>matrix</u>.\n",
    "\n",
    "Matrix is an ordered rectangular array of real number. A matrix with m rows and n columns has size or dimension m x n. The real numbers that makes up the array are called the <u>entries</u> or elements of the matrix.\n",
    "\n",
    "A matrix of size 1 x n is a <u>row matrix</u> or vector, while matrix of size m x 1 is a <u>column matrix</u> or vector. A matrix of size n x n is a <u>square matrix</u>. "
   ]
  },
  {
   "cell_type": "markdown",
   "id": "546e4833",
   "metadata": {},
   "source": [
    "#### 2.4.1. Equality of matrices"
   ]
  },
  {
   "cell_type": "markdown",
   "id": "c33b7f49",
   "metadata": {},
   "source": [
    "Two matrices are equal if they have the same size and their corresponding entries are equal."
   ]
  },
  {
   "cell_type": "markdown",
   "id": "38ae1baf",
   "metadata": {},
   "source": [
    "#### 2.4.2. Addition and substraction of matrices"
   ]
  },
  {
   "cell_type": "markdown",
   "id": "199afdf8",
   "metadata": {},
   "source": [
    "Two matrices A and B of the same size can be added (sum) or subtracted (difference) to produce a matrix of the same size. \n",
    "\n",
    "Law of matrix addition:\n",
    "- $ A + B = B + A \\quad \\quad \\quad \\quad \\quad \\quad $ (Commutative)\n",
    "- $(A + B) + C = A + (B + C) \\quad \\quad $ (Associative)\n",
    "\n",
    "#### Zero matrix\n",
    "$ A + \\mathbb{0} = \\mathbb{0} + A = A $, where $\\mathbb{0}$ is a zero matrix where all of its entries are zero.\n",
    "\n",
    "#### Transpose of a matrix\n",
    "If A is an m x n matrix with elements $a_{ij}$, then the <u>transpose</u> of A is the n x m matrix with $A^T$ with elements $a_{ji}$."
   ]
  },
  {
   "cell_type": "markdown",
   "id": "634aa303",
   "metadata": {},
   "source": [
    "#### 2.4.3. Scalar multiplication of matrices"
   ]
  },
  {
   "cell_type": "markdown",
   "id": "db4d2c7b",
   "metadata": {},
   "source": [
    "A matrix $A$ may be multiplied by a real number $c$, called a scalar. \n",
    "\n",
    "The <u>scalar product</u>, denoted by $cA$, is a matrix obtained by multiplying each entry of $A$ by $c$."
   ]
  },
  {
   "cell_type": "markdown",
   "id": "cbe4cc5c",
   "metadata": {},
   "source": [
    "### 2.5. Multiplication of Matrices"
   ]
  },
  {
   "cell_type": "markdown",
   "id": "309fac7c",
   "metadata": {},
   "source": [
    "With certain restrictions, one matrix may be multiplied by another matrix:\n",
    "\n",
    "If we have a row matrix of size m x n and a column matrix of size n x p, then we may define the <u>matrix product</u> of A and B, written AB with size of m x p, by:\n",
    "\n",
    "$ AB = \\begin{bmatrix} a_{1} ... a_{n} \\end{bmatrix} \\begin{bmatrix} b_{1} \\\\ . \\\\ . \\\\ b_{n} \\end{bmatrix} = a_{1}b_{1} + ... + a_{n}b_{n} $"
   ]
  },
  {
   "cell_type": "markdown",
   "id": "ed83df86",
   "metadata": {},
   "source": [
    "Law of matrix multiplication:\n",
    "- $ (AB)C = A(BC) \\quad \\quad \\quad \\quad \\quad \\quad \\quad $ (Associative)\n",
    "- $ A(C + C) + C = AB + AC \\quad \\quad \\quad \\ $ (Distributive)"
   ]
  },
  {
   "cell_type": "markdown",
   "id": "0638add1",
   "metadata": {},
   "source": [
    "### 2.6. The Inverse of a Square Matrix"
   ]
  },
  {
   "cell_type": "markdown",
   "id": "ce411ee8",
   "metadata": {},
   "source": [
    "Let $A$ be a square matrix of size n. A square matrix $A^{-1}$ of size n, is called the <u>inverse of matrix</u> A, such that: $A^{-1} A = AA^{-1} = I_{n} $\n",
    "\n",
    "Not every square matrix has an inverse. A square matrix that has an inverse is said to be <u>nonsingular</u>. A matrix that does not have an inverse is said to be <u>singular</u>."
   ]
  },
  {
   "cell_type": "markdown",
   "id": "272a4553",
   "metadata": {},
   "source": [
    "#### 2.6.1. A method of finding the inverse of a square matrix"
   ]
  },
  {
   "cell_type": "markdown",
   "id": "ad9bc1bb",
   "metadata": {},
   "source": [
    "Recall that if $a$ is a nonzero real number, then there exists a unique real number $a^{-1}$ such that:\n",
    "\n",
    "$a^{-1}a = \\Large \\frac{1}{a} \\normalsize (a) = 1 $"
   ]
  },
  {
   "cell_type": "markdown",
   "id": "2663c25e",
   "metadata": {},
   "source": [
    "Therefore, if $A$ is a matrix:\n",
    "\n",
    "$ A = \\begin{bmatrix} 1 & 2 \\\\ -1 & 3 \\end{bmatrix} $\n",
    "\n",
    "Suppose $A^{-1}$ exists and is given by:\n",
    "\n",
    "$ A^{-1} = \\begin{bmatrix} a & b \\\\ c & d \\end{bmatrix} $\n",
    "\n",
    "where a, b, c, and d are to be determined.\n",
    "\n",
    "By the definition of an inverse, we have $AA^{-1} = I$, that is:\n",
    "\n",
    "$ \\begin{bmatrix} 1 & 2 \\\\ -1 & 3 \\end{bmatrix} \\begin{bmatrix} a & b \\\\ c & d \\end{bmatrix} = \\begin{bmatrix} 1 & 0 \\\\ 0 & 1 \\end{bmatrix} $\n",
    "\n",
    "which simplifies to:\n",
    "\n",
    "$ \\begin{bmatrix} a + 2c & b + 2d \\\\ -a + 3c & -b + 3d \\end{bmatrix} = \\begin{bmatrix} 1 & 0 \\\\ 0 & 1 \\end{bmatrix} $\n",
    "\n",
    "and this matrix equation is equivalent to the two systems of linear equations:\n",
    "\n",
    "$ \\begin{bmatrix} a + 2c = 1 & b + 2d = 0 \\\\-a + 3c = 0  & -b + 3d = 1 \\end{bmatrix} $\n",
    "\n",
    "with augmented matrices given by:\n",
    "\n",
    "$ \\begin{bmatrix} 1 & 2 & \\bigm| & 1 \\\\ -1 & 3 & \\bigm| & 0 \\end{bmatrix} $ and $ \\begin{bmatrix} 1 & 2 & \\bigm| & 0 \\\\ -1 & 3 & \\bigm| & 1 \\end{bmatrix} $\n",
    "\n",
    "Since the matrices are identical, we can join the coefficient matrix and two columns of constants:\n",
    "\n",
    "$ \\begin{bmatrix} 1 & 2 & \\bigm| & 1 & 0 \\\\ -1 & 3 & \\bigm| & 0 & 1\\end{bmatrix} $\n",
    "\n",
    "Using the Gauss-Jordan elimination method, we obtain the following sequence of equivalent matrices:\n",
    "\n",
    "$ \\begin{bmatrix} 1 & 2 & \\bigm| & 1 & 0 \\\\ -1 & 3 & \\bigm| & 0 & 1\\end{bmatrix} $ $ \\xrightarrow[]{R_2 + R_1} $ $ \\begin{bmatrix} 1 & 2 & \\bigm| & 1 & 0 \\\\ 0 & 5 & \\bigm| & 1 & 1\\end{bmatrix} $ $\\xrightarrow[]{\\frac{1}{5}R_2}$ $ \\begin{bmatrix} 1 & 2 & \\bigm| & 1 & 0 \\\\ 0 & 1 & \\bigm| & \\frac{1}{5} & \\frac{1}{5} \\end{bmatrix} $ \n",
    "\n",
    "$\\xrightarrow[]{R_1 - 2R_2}$ $ \\begin{bmatrix} 1 & 0 & \\bigm| & \\frac{3}{5} & \\frac{-2}{5} \\\\ 0 & 1 & \\bigm| & \\frac{1}{5} & \\frac{1}{5} \\end{bmatrix} $\n",
    "\n",
    "Thus, $a = \\frac{3}{5}, b = \\frac{-2}{5}, c = \\frac{1}{5}, d = \\frac{1}{5} $, giving: $ A^{-1} = \\begin{bmatrix} \\frac{3}{5} & \\frac{-2}{5} \\\\ \\frac{1}{5} & \\frac{1}{5} \\end{bmatrix} $"
   ]
  },
  {
   "cell_type": "markdown",
   "id": "0a395a23",
   "metadata": {},
   "source": [
    "#### Matrices that have no inverses\n",
    "If there is a row to the left of the vertical line in the augmented matrix containing all zeros, then the matrix does not have an inverse."
   ]
  },
  {
   "cell_type": "markdown",
   "id": "3669a367",
   "metadata": {},
   "source": [
    "#### Formula for the inverse of a 2 x 2 Matrix\n",
    "\n",
    "Let $A$, a 2 x 2 matrix:\n",
    "\n",
    "$ A = \\begin{bmatrix} a & b \\\\ c & d \\end{bmatrix} $\n",
    "\n",
    "Suppose $D = ad - bc \\neq 0$, then:\n",
    "\n",
    "$ A^{-1} = \\Large \\frac{1}{D} \\normalsize \\begin{bmatrix} d & -b \\\\ -c & a \\end{bmatrix} $"
   ]
  },
  {
   "cell_type": "markdown",
   "id": "9c54151a",
   "metadata": {},
   "source": [
    "#### 2.6.2. Solving systems of equations with inverses"
   ]
  },
  {
   "cell_type": "markdown",
   "id": "47897cdb",
   "metadata": {},
   "source": [
    "Let's illustrate the process for a system of three linear equations in three variables:\n",
    "\n",
    "$ a_{11}x_1 + a_{12}x_2 + a_{13}x_3 = b_1 $\n",
    "\n",
    "$ a_{21}x_1 + a_{22}x_2 + a_{23}x_3 = b_2 $\n",
    "\n",
    "$ a_{31}x_1 + a_{32}x_2 + a_{33}x_3 = b_3 $\n",
    "\n",
    "Then:\n",
    "\n",
    "$ A = \\begin{bmatrix} a_{11} & a_{12} & a_{13} \\\\ a_{21} & a_{22} & a_{23} \\\\ a_{31} & a_{32} & a_{33} \\end{bmatrix} \\quad $ $ X = \\begin{bmatrix} x_1 \\\\ x_2 \\\\ x_3 \\end{bmatrix} \\quad $ $ B = \\begin{bmatrix} b_1 \\\\ b_2 \\\\ b_3 \\end{bmatrix} $\n",
    "\n",
    "or, in the form of matrix equation:\n",
    "\n",
    "$ AX = B $\n",
    "\n",
    "If $A$ is nonsingular, then we can multiple both sides with $A^{-1}$:\n",
    "\n",
    "$A^{-1}AX = A^{-1}B \\ $ $ \\rightarrow $ $ \\ IX = A^{-1}B \\ $ $ \\rightarrow $ $ \\ X = A^{-1}B$\n",
    "\n",
    "So, the unique solution: $x_1 = x$, $x_2 = y$, and $x_3 = z$, where $x_n$ is elements of matrix X."
   ]
  },
  {
   "cell_type": "markdown",
   "id": "4fc90fdd",
   "metadata": {},
   "source": [
    "### 2.7. Leontief Input-Output Model"
   ]
  },
  {
   "cell_type": "markdown",
   "id": "bec1df40",
   "metadata": {},
   "source": [
    "One of the many important applications of matrix theory to the field of economics is the study of the relationship between industrial production and consumer demand, which is also known as <u>Leontief input–output model</u>.\n",
    "\n",
    "In a Leontief input–output model, the matrix equation giving the net output of\n",
    "goods and services needed to satisfy consumer demand is:\n",
    "\n",
    "$ X - AX = D $\n",
    "\n",
    "where X is total output, AX is internal consumption, and D is consumer demand. \n",
    "\n",
    "The solution of this equation is:\n",
    "\n",
    "$ X = (I - A)^{-1} D $\n",
    "\n",
    "where $I$ is an identity matrix."
   ]
  },
  {
   "cell_type": "markdown",
   "id": "b39a7930",
   "metadata": {},
   "source": [
    "## 3. Linear Programming: Geometric Approaches"
   ]
  },
  {
   "cell_type": "code",
   "execution_count": 1,
   "id": "f2d7ce16",
   "metadata": {},
   "outputs": [],
   "source": [
    "from sympy import *\n",
    "\n",
    "x, y, z, t = symbols('x y z t')"
   ]
  },
  {
   "cell_type": "markdown",
   "id": "61deb0a2",
   "metadata": {},
   "source": [
    "### 3.1. Linear Programming: Geometric Approaches"
   ]
  },
  {
   "cell_type": "markdown",
   "id": "1e3a4edd",
   "metadata": {},
   "source": [
    "Linear equalities:\n",
    "\n",
    "$ ax + by + c \\leq 0 $\n",
    "\n",
    "$ ax + by + c \\geq 0 $"
   ]
  },
  {
   "cell_type": "markdown",
   "id": "4cce3646",
   "metadata": {},
   "source": [
    "#### 3.1.1. Graphing linear inequalities"
   ]
  },
  {
   "cell_type": "markdown",
   "id": "78869da4",
   "metadata": {},
   "source": [
    "Here is a simple graphical representation for linear inequalities:\n",
    "\n",
    "$ 2x + 3y > 6 $ (upper-half plane)\n",
    "\n",
    "$ 2x + 3y < 6 $ (lower-half plane)\n",
    "\n",
    "$ y = - \\Large \\frac{2}{3} \\normalsize x + 2 $ (the equation of the line)\n",
    "\n",
    "Substituting $ x = 0 $ or $ y = 0 $, we find that the line intersects on $ x = 3 $ and $ y = 2 $, thus:"
   ]
  },
  {
   "cell_type": "code",
   "execution_count": 2,
   "id": "f9d51e54",
   "metadata": {},
   "outputs": [
    {
     "data": {
      "image/png": "[encoded data removed]",
      "text/plain": [
       "<Figure size 640x480 with 1 Axes>"
      ]
     },
     "metadata": {},
     "output_type": "display_data"
    }
   ],
   "source": [
    "p1 = plot_implicit(Eq(2*x+3*y,6), line_color='crimson', show=False)\n",
    "p2 = plot_implicit(And(2*x+3*y>6), line_color='#CCCCCC', show=False)\n",
    "p1.append(p2[0])\n",
    "p1.show()"
   ]
  },
  {
   "cell_type": "markdown",
   "id": "41f8c368",
   "metadata": {},
   "source": [
    "Graph: $ x \\leq -1 $"
   ]
  },
  {
   "cell_type": "code",
   "execution_count": 3,
   "id": "b5a64225",
   "metadata": {},
   "outputs": [
    {
     "data": {
      "image/png": "[encoded data removed]",
      "text/plain": [
       "<Figure size 640x480 with 1 Axes>"
      ]
     },
     "metadata": {},
     "output_type": "display_data"
    }
   ],
   "source": [
    "p1 = plot_implicit(Eq(x,-1), line_color='crimson', show=False)\n",
    "p2 = plot_implicit(And(x<=-1), line_color='#CCCCCC', show=False)\n",
    "p1.append(p2[0])\n",
    "p1.show()"
   ]
  },
  {
   "cell_type": "markdown",
   "id": "ed8695e7",
   "metadata": {},
   "source": [
    "Graph: $ x - 2y > 0 $ $ \\rightarrow $ $ y = \\large \\frac{1}{2} \\normalsize x $"
   ]
  },
  {
   "cell_type": "code",
   "execution_count": 4,
   "id": "3effabca",
   "metadata": {},
   "outputs": [
    {
     "data": {
      "image/png": "[encoded data removed]",
      "text/plain": [
       "<Figure size 640x480 with 1 Axes>"
      ]
     },
     "metadata": {},
     "output_type": "display_data"
    }
   ],
   "source": [
    "p1 = plot_implicit(Eq(x-2*y,0), line_color='crimson', show=False)\n",
    "p2 = plot_implicit(And(x - 2*y > 0), line_color='#CCCCCC', show=False)\n",
    "p1.append(p2[0])\n",
    "p1.show()"
   ]
  },
  {
   "cell_type": "markdown",
   "id": "a580f457",
   "metadata": {},
   "source": [
    "#### 3.1.2. Graphing systems of linear inequalities"
   ]
  },
  {
   "cell_type": "markdown",
   "id": "7fa12990",
   "metadata": {},
   "source": [
    "By the <u>solution set of a system of linear inequalities</u> in the two variables x and y, we mean the set of all points 1x, y2 satisfying each inequality of the system. The graphical solution of such a system may be obtained by graphing the solution set for each inequality independently and then determining the region in common with each solution set."
   ]
  },
  {
   "cell_type": "markdown",
   "id": "4b2bcfb3",
   "metadata": {},
   "source": [
    "Determine the solution set for the system:\n",
    "\n",
    "$ 4x + 3y \\geq 12 \\ $ and $ \\ x - y \\leq 0 $\n",
    "\n",
    "Sketch the solution set for the system:\n",
    "\n",
    "$ 4x + 3y = 12 \\ $ and $ \\ x - y = 0 $"
   ]
  },
  {
   "cell_type": "code",
   "execution_count": 5,
   "id": "fdc2f0ef",
   "metadata": {},
   "outputs": [
    {
     "data": {
      "image/png": "[encoded data removed]",
      "text/plain": [
       "<Figure size 640x480 with 1 Axes>"
      ]
     },
     "metadata": {},
     "output_type": "display_data"
    }
   ],
   "source": [
    "p1 = plot_implicit(Eq(4*x+3*y,12), line_color='crimson', show=False)\n",
    "p2 = plot_implicit(Eq(x-y,0), line_color='crimson', show=False)\n",
    "p3 = plot_implicit(And(4*x + 3*y >= 12, x - y <= 0), \n",
    "                   line_color='#CCCCCC', show=False)\n",
    "p1.append(p2[0])\n",
    "p1.append(p3[0])\n",
    "p1.show()"
   ]
  },
  {
   "cell_type": "markdown",
   "id": "8756eed8",
   "metadata": {},
   "source": [
    "Sketch the solution set for the system:\n",
    "\n",
    "$ x + y = 6 \\ $ and $ \\ 2x + y - 8 $"
   ]
  },
  {
   "cell_type": "code",
   "execution_count": 6,
   "id": "2dcfa1be",
   "metadata": {},
   "outputs": [
    {
     "data": {
      "image/png": "[encoded data removed]",
      "text/plain": [
       "<Figure size 640x480 with 1 Axes>"
      ]
     },
     "metadata": {},
     "output_type": "display_data"
    }
   ],
   "source": [
    "p1 = plot_implicit(Eq(x+y,6), line_color='crimson', show=False)\n",
    "p2 = plot_implicit(Eq(2*x+y,8), line_color='crimson', show=False)\n",
    "p3 = plot_implicit(And(x >= 0, y >= 0, x + y <= 6, 2*x + y <= 8), \n",
    "                   line_color='#CCCCCC', show=False)\n",
    "p1.append(p2[0])\n",
    "p1.append(p3[0])\n",
    "p1.show()"
   ]
  },
  {
   "cell_type": "markdown",
   "id": "d9e107c4",
   "metadata": {},
   "source": [
    "### 3.2. Linear Programming Problems"
   ]
  },
  {
   "cell_type": "markdown",
   "id": "1f2a3012",
   "metadata": {},
   "source": [
    "#### 3.2.1. A maximization problem"
   ]
  },
  {
   "cell_type": "markdown",
   "id": "4f725c94",
   "metadata": {},
   "source": [
    "..."
   ]
  },
  {
   "cell_type": "markdown",
   "id": "f416eaae",
   "metadata": {},
   "source": [
    "#### 3.2.2. A minimization problem"
   ]
  },
  {
   "cell_type": "markdown",
   "id": "9458c15e",
   "metadata": {},
   "source": [
    "..."
   ]
  },
  {
   "cell_type": "markdown",
   "id": "33d066ca",
   "metadata": {},
   "source": [
    "### 3.3. Graphical Solution of Linear Programming Problems"
   ]
  },
  {
   "cell_type": "markdown",
   "id": "1f86f49b",
   "metadata": {},
   "source": [
    "..."
   ]
  },
  {
   "cell_type": "markdown",
   "id": "569702ff",
   "metadata": {},
   "source": [
    "### 3.4. Sensitivity Analysis"
   ]
  },
  {
   "cell_type": "markdown",
   "id": "811c7d5a",
   "metadata": {},
   "source": [
    "..."
   ]
  },
  {
   "cell_type": "markdown",
   "id": "ed4eebf3",
   "metadata": {},
   "source": [
    "#### 3.4.1. Changes in the coefficients of the objective function"
   ]
  },
  {
   "cell_type": "markdown",
   "id": "1b3bc9c0",
   "metadata": {},
   "source": [
    "..."
   ]
  },
  {
   "cell_type": "markdown",
   "id": "b16f7391",
   "metadata": {},
   "source": [
    "#### 3.4.2. Changes to the Constants on the right-hand side of the constraint inequalities"
   ]
  },
  {
   "cell_type": "markdown",
   "id": "651d3cfd",
   "metadata": {},
   "source": [
    "..."
   ]
  },
  {
   "cell_type": "markdown",
   "id": "657966af",
   "metadata": {},
   "source": [
    "#### 3.4.3. Shadow prices"
   ]
  },
  {
   "cell_type": "markdown",
   "id": "95bb8212",
   "metadata": {},
   "source": [
    "## 4. Linear Programming: Algebraic Approaches"
   ]
  },
  {
   "cell_type": "markdown",
   "id": "7359e8a1",
   "metadata": {},
   "source": [
    "..."
   ]
  },
  {
   "cell_type": "markdown",
   "id": "eefb17cd",
   "metadata": {},
   "source": [
    "## 5. Mathematics of Finance"
   ]
  },
  {
   "cell_type": "markdown",
   "id": "76b9902a",
   "metadata": {},
   "source": [
    "..."
   ]
  },
  {
   "cell_type": "markdown",
   "id": "b92a0e61",
   "metadata": {},
   "source": [
    "## 6. Sets and Counting"
   ]
  },
  {
   "cell_type": "markdown",
   "id": "d2d222f3",
   "metadata": {},
   "source": [
    "..."
   ]
  },
  {
   "cell_type": "markdown",
   "id": "fa4f9ee8",
   "metadata": {},
   "source": [
    "## 7. Probability"
   ]
  },
  {
   "cell_type": "markdown",
   "id": "75c36b9a",
   "metadata": {},
   "source": [
    "..."
   ]
  },
  {
   "cell_type": "markdown",
   "id": "ab15baa1",
   "metadata": {},
   "source": [
    "## 8. Probability Distributions and Statistics"
   ]
  },
  {
   "cell_type": "markdown",
   "id": "6b49e215",
   "metadata": {},
   "source": [
    "..."
   ]
  },
  {
   "cell_type": "markdown",
   "id": "48b4ae92",
   "metadata": {},
   "source": [
    "## 9. Markov Chains and Theory of Game"
   ]
  },
  {
   "cell_type": "markdown",
   "id": "4924f902",
   "metadata": {},
   "source": [
    "..."
   ]
  }
 ],
 "metadata": {
  "kernelspec": {
   "display_name": "Python 3 (ipykernel)",
   "language": "python",
   "name": "python3"
  },
  "language_info": {
   "codemirror_mode": {
    "name": "ipython",
    "version": 3
   },
   "file_extension": ".py",
   "mimetype": "text/x-python",
   "name": "python",
   "nbconvert_exporter": "python",
   "pygments_lexer": "ipython3",
   "version": "3.9.16"
  }
 },
 "nbformat": 4,
 "nbformat_minor": 5
}
